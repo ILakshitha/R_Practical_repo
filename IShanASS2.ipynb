{
 "cells": [
  {
   "cell_type": "markdown",
   "id": "69ddd8a5-b533-4cdb-8d03-aaf9203a8845",
   "metadata": {},
   "source": [
    "# Ishan Lakshitha 22001085"
   ]
  },
  {
   "cell_type": "code",
   "execution_count": 19,
   "id": "e1ec4345-13d3-484a-be79-04d8c637f25d",
   "metadata": {},
   "outputs": [],
   "source": [
    "set.seed(22001085)"
   ]
  },
  {
   "cell_type": "markdown",
   "id": "e1150e1d-8602-426e-92d5-dc5fbb6e0141",
   "metadata": {},
   "source": [
    "Generate Employee IDs starting from E1001 to E1020."
   ]
  },
  {
   "cell_type": "code",
   "execution_count": 20,
   "id": "ef9e3032-025b-46f0-ad7b-c46639100fa8",
   "metadata": {},
   "outputs": [],
   "source": [
    "employee_id <- paste0(\"E\",1001:1050)"
   ]
  },
  {
   "cell_type": "code",
   "execution_count": 21,
   "id": "c2a03bab-9633-4087-a871-685a31c536c7",
   "metadata": {},
   "outputs": [
    {
     "data": {
      "text/html": [
       "<style>\n",
       ".list-inline {list-style: none; margin:0; padding: 0}\n",
       ".list-inline>li {display: inline-block}\n",
       ".list-inline>li:not(:last-child)::after {content: \"\\00b7\"; padding: 0 .5ex}\n",
       "</style>\n",
       "<ol class=list-inline><li>'E1001'</li><li>'E1002'</li><li>'E1003'</li><li>'E1004'</li><li>'E1005'</li><li>'E1006'</li><li>'E1007'</li><li>'E1008'</li><li>'E1009'</li><li>'E1010'</li><li>'E1011'</li><li>'E1012'</li><li>'E1013'</li><li>'E1014'</li><li>'E1015'</li><li>'E1016'</li><li>'E1017'</li><li>'E1018'</li><li>'E1019'</li><li>'E1020'</li><li>'E1021'</li><li>'E1022'</li><li>'E1023'</li><li>'E1024'</li><li>'E1025'</li><li>'E1026'</li><li>'E1027'</li><li>'E1028'</li><li>'E1029'</li><li>'E1030'</li><li>'E1031'</li><li>'E1032'</li><li>'E1033'</li><li>'E1034'</li><li>'E1035'</li><li>'E1036'</li><li>'E1037'</li><li>'E1038'</li><li>'E1039'</li><li>'E1040'</li><li>'E1041'</li><li>'E1042'</li><li>'E1043'</li><li>'E1044'</li><li>'E1045'</li><li>'E1046'</li><li>'E1047'</li><li>'E1048'</li><li>'E1049'</li><li>'E1050'</li></ol>\n"
      ],
      "text/latex": [
       "\\begin{enumerate*}\n",
       "\\item 'E1001'\n",
       "\\item 'E1002'\n",
       "\\item 'E1003'\n",
       "\\item 'E1004'\n",
       "\\item 'E1005'\n",
       "\\item 'E1006'\n",
       "\\item 'E1007'\n",
       "\\item 'E1008'\n",
       "\\item 'E1009'\n",
       "\\item 'E1010'\n",
       "\\item 'E1011'\n",
       "\\item 'E1012'\n",
       "\\item 'E1013'\n",
       "\\item 'E1014'\n",
       "\\item 'E1015'\n",
       "\\item 'E1016'\n",
       "\\item 'E1017'\n",
       "\\item 'E1018'\n",
       "\\item 'E1019'\n",
       "\\item 'E1020'\n",
       "\\item 'E1021'\n",
       "\\item 'E1022'\n",
       "\\item 'E1023'\n",
       "\\item 'E1024'\n",
       "\\item 'E1025'\n",
       "\\item 'E1026'\n",
       "\\item 'E1027'\n",
       "\\item 'E1028'\n",
       "\\item 'E1029'\n",
       "\\item 'E1030'\n",
       "\\item 'E1031'\n",
       "\\item 'E1032'\n",
       "\\item 'E1033'\n",
       "\\item 'E1034'\n",
       "\\item 'E1035'\n",
       "\\item 'E1036'\n",
       "\\item 'E1037'\n",
       "\\item 'E1038'\n",
       "\\item 'E1039'\n",
       "\\item 'E1040'\n",
       "\\item 'E1041'\n",
       "\\item 'E1042'\n",
       "\\item 'E1043'\n",
       "\\item 'E1044'\n",
       "\\item 'E1045'\n",
       "\\item 'E1046'\n",
       "\\item 'E1047'\n",
       "\\item 'E1048'\n",
       "\\item 'E1049'\n",
       "\\item 'E1050'\n",
       "\\end{enumerate*}\n"
      ],
      "text/markdown": [
       "1. 'E1001'\n",
       "2. 'E1002'\n",
       "3. 'E1003'\n",
       "4. 'E1004'\n",
       "5. 'E1005'\n",
       "6. 'E1006'\n",
       "7. 'E1007'\n",
       "8. 'E1008'\n",
       "9. 'E1009'\n",
       "10. 'E1010'\n",
       "11. 'E1011'\n",
       "12. 'E1012'\n",
       "13. 'E1013'\n",
       "14. 'E1014'\n",
       "15. 'E1015'\n",
       "16. 'E1016'\n",
       "17. 'E1017'\n",
       "18. 'E1018'\n",
       "19. 'E1019'\n",
       "20. 'E1020'\n",
       "21. 'E1021'\n",
       "22. 'E1022'\n",
       "23. 'E1023'\n",
       "24. 'E1024'\n",
       "25. 'E1025'\n",
       "26. 'E1026'\n",
       "27. 'E1027'\n",
       "28. 'E1028'\n",
       "29. 'E1029'\n",
       "30. 'E1030'\n",
       "31. 'E1031'\n",
       "32. 'E1032'\n",
       "33. 'E1033'\n",
       "34. 'E1034'\n",
       "35. 'E1035'\n",
       "36. 'E1036'\n",
       "37. 'E1037'\n",
       "38. 'E1038'\n",
       "39. 'E1039'\n",
       "40. 'E1040'\n",
       "41. 'E1041'\n",
       "42. 'E1042'\n",
       "43. 'E1043'\n",
       "44. 'E1044'\n",
       "45. 'E1045'\n",
       "46. 'E1046'\n",
       "47. 'E1047'\n",
       "48. 'E1048'\n",
       "49. 'E1049'\n",
       "50. 'E1050'\n",
       "\n",
       "\n"
      ],
      "text/plain": [
       " [1] \"E1001\" \"E1002\" \"E1003\" \"E1004\" \"E1005\" \"E1006\" \"E1007\" \"E1008\" \"E1009\"\n",
       "[10] \"E1010\" \"E1011\" \"E1012\" \"E1013\" \"E1014\" \"E1015\" \"E1016\" \"E1017\" \"E1018\"\n",
       "[19] \"E1019\" \"E1020\" \"E1021\" \"E1022\" \"E1023\" \"E1024\" \"E1025\" \"E1026\" \"E1027\"\n",
       "[28] \"E1028\" \"E1029\" \"E1030\" \"E1031\" \"E1032\" \"E1033\" \"E1034\" \"E1035\" \"E1036\"\n",
       "[37] \"E1037\" \"E1038\" \"E1039\" \"E1040\" \"E1041\" \"E1042\" \"E1043\" \"E1044\" \"E1045\"\n",
       "[46] \"E1046\" \"E1047\" \"E1048\" \"E1049\" \"E1050\""
      ]
     },
     "metadata": {},
     "output_type": "display_data"
    }
   ],
   "source": [
    "employee_id"
   ]
  },
  {
   "cell_type": "markdown",
   "id": "02acf7ab-bdf9-4a42-b74b-a2f8a489b0df",
   "metadata": {},
   "source": [
    "### Randomly assign gender to employees, ensuring a male-to-female ratio of 6:2 (use “Male” and “Female” as category names)."
   ]
  },
  {
   "cell_type": "code",
   "execution_count": 22,
   "id": "46caf415-e03e-41af-8d4b-214977d3cf1a",
   "metadata": {},
   "outputs": [],
   "source": [
    "gender <- sample(c(\"Male\", \"Female\"), 50, replace = TRUE, prob = c(0.75, 0.25))"
   ]
  },
  {
   "cell_type": "code",
   "execution_count": 23,
   "id": "22ea7c67-f9a2-4ba9-b0e8-be0614844483",
   "metadata": {},
   "outputs": [
    {
     "data": {
      "text/html": [
       "<style>\n",
       ".list-inline {list-style: none; margin:0; padding: 0}\n",
       ".list-inline>li {display: inline-block}\n",
       ".list-inline>li:not(:last-child)::after {content: \"\\00b7\"; padding: 0 .5ex}\n",
       "</style>\n",
       "<ol class=list-inline><li>'Male'</li><li>'Female'</li><li>'Male'</li><li>'Male'</li><li>'Male'</li><li>'Male'</li><li>'Male'</li><li>'Female'</li><li>'Male'</li><li>'Male'</li><li>'Male'</li><li>'Male'</li><li>'Female'</li><li>'Female'</li><li>'Male'</li><li>'Male'</li><li>'Male'</li><li>'Male'</li><li>'Male'</li><li>'Male'</li><li>'Male'</li><li>'Male'</li><li>'Male'</li><li>'Male'</li><li>'Male'</li><li>'Female'</li><li>'Male'</li><li>'Male'</li><li>'Female'</li><li>'Male'</li><li>'Male'</li><li>'Female'</li><li>'Male'</li><li>'Male'</li><li>'Male'</li><li>'Male'</li><li>'Male'</li><li>'Female'</li><li>'Male'</li><li>'Male'</li><li>'Male'</li><li>'Male'</li><li>'Female'</li><li>'Male'</li><li>'Male'</li><li>'Female'</li><li>'Male'</li><li>'Female'</li><li>'Female'</li><li>'Male'</li></ol>\n"
      ],
      "text/latex": [
       "\\begin{enumerate*}\n",
       "\\item 'Male'\n",
       "\\item 'Female'\n",
       "\\item 'Male'\n",
       "\\item 'Male'\n",
       "\\item 'Male'\n",
       "\\item 'Male'\n",
       "\\item 'Male'\n",
       "\\item 'Female'\n",
       "\\item 'Male'\n",
       "\\item 'Male'\n",
       "\\item 'Male'\n",
       "\\item 'Male'\n",
       "\\item 'Female'\n",
       "\\item 'Female'\n",
       "\\item 'Male'\n",
       "\\item 'Male'\n",
       "\\item 'Male'\n",
       "\\item 'Male'\n",
       "\\item 'Male'\n",
       "\\item 'Male'\n",
       "\\item 'Male'\n",
       "\\item 'Male'\n",
       "\\item 'Male'\n",
       "\\item 'Male'\n",
       "\\item 'Male'\n",
       "\\item 'Female'\n",
       "\\item 'Male'\n",
       "\\item 'Male'\n",
       "\\item 'Female'\n",
       "\\item 'Male'\n",
       "\\item 'Male'\n",
       "\\item 'Female'\n",
       "\\item 'Male'\n",
       "\\item 'Male'\n",
       "\\item 'Male'\n",
       "\\item 'Male'\n",
       "\\item 'Male'\n",
       "\\item 'Female'\n",
       "\\item 'Male'\n",
       "\\item 'Male'\n",
       "\\item 'Male'\n",
       "\\item 'Male'\n",
       "\\item 'Female'\n",
       "\\item 'Male'\n",
       "\\item 'Male'\n",
       "\\item 'Female'\n",
       "\\item 'Male'\n",
       "\\item 'Female'\n",
       "\\item 'Female'\n",
       "\\item 'Male'\n",
       "\\end{enumerate*}\n"
      ],
      "text/markdown": [
       "1. 'Male'\n",
       "2. 'Female'\n",
       "3. 'Male'\n",
       "4. 'Male'\n",
       "5. 'Male'\n",
       "6. 'Male'\n",
       "7. 'Male'\n",
       "8. 'Female'\n",
       "9. 'Male'\n",
       "10. 'Male'\n",
       "11. 'Male'\n",
       "12. 'Male'\n",
       "13. 'Female'\n",
       "14. 'Female'\n",
       "15. 'Male'\n",
       "16. 'Male'\n",
       "17. 'Male'\n",
       "18. 'Male'\n",
       "19. 'Male'\n",
       "20. 'Male'\n",
       "21. 'Male'\n",
       "22. 'Male'\n",
       "23. 'Male'\n",
       "24. 'Male'\n",
       "25. 'Male'\n",
       "26. 'Female'\n",
       "27. 'Male'\n",
       "28. 'Male'\n",
       "29. 'Female'\n",
       "30. 'Male'\n",
       "31. 'Male'\n",
       "32. 'Female'\n",
       "33. 'Male'\n",
       "34. 'Male'\n",
       "35. 'Male'\n",
       "36. 'Male'\n",
       "37. 'Male'\n",
       "38. 'Female'\n",
       "39. 'Male'\n",
       "40. 'Male'\n",
       "41. 'Male'\n",
       "42. 'Male'\n",
       "43. 'Female'\n",
       "44. 'Male'\n",
       "45. 'Male'\n",
       "46. 'Female'\n",
       "47. 'Male'\n",
       "48. 'Female'\n",
       "49. 'Female'\n",
       "50. 'Male'\n",
       "\n",
       "\n"
      ],
      "text/plain": [
       " [1] \"Male\"   \"Female\" \"Male\"   \"Male\"   \"Male\"   \"Male\"   \"Male\"   \"Female\"\n",
       " [9] \"Male\"   \"Male\"   \"Male\"   \"Male\"   \"Female\" \"Female\" \"Male\"   \"Male\"  \n",
       "[17] \"Male\"   \"Male\"   \"Male\"   \"Male\"   \"Male\"   \"Male\"   \"Male\"   \"Male\"  \n",
       "[25] \"Male\"   \"Female\" \"Male\"   \"Male\"   \"Female\" \"Male\"   \"Male\"   \"Female\"\n",
       "[33] \"Male\"   \"Male\"   \"Male\"   \"Male\"   \"Male\"   \"Female\" \"Male\"   \"Male\"  \n",
       "[41] \"Male\"   \"Male\"   \"Female\" \"Male\"   \"Male\"   \"Female\" \"Male\"   \"Female\"\n",
       "[49] \"Female\" \"Male\"  "
      ]
     },
     "metadata": {},
     "output_type": "display_data"
    }
   ],
   "source": [
    "gender"
   ]
  },
  {
   "cell_type": "markdown",
   "id": "27680009-c90a-45ca-b926-48d77df5ebf4",
   "metadata": {},
   "source": [
    "### Assign an age to each employee, ensuring the age is a random value between 25 & 40."
   ]
  },
  {
   "cell_type": "code",
   "execution_count": 24,
   "id": "d3732a3c-fa1c-4b59-88bb-b50171d2b7e1",
   "metadata": {},
   "outputs": [],
   "source": [
    "age <- sample(25:40, 50, replace = TRUE)"
   ]
  },
  {
   "cell_type": "code",
   "execution_count": 25,
   "id": "6012ed7a-5c79-4aec-89ce-f58bbd3cf653",
   "metadata": {},
   "outputs": [
    {
     "data": {
      "text/html": [
       "<style>\n",
       ".list-inline {list-style: none; margin:0; padding: 0}\n",
       ".list-inline>li {display: inline-block}\n",
       ".list-inline>li:not(:last-child)::after {content: \"\\00b7\"; padding: 0 .5ex}\n",
       "</style>\n",
       "<ol class=list-inline><li>31</li><li>36</li><li>25</li><li>26</li><li>34</li><li>32</li><li>34</li><li>36</li><li>40</li><li>40</li><li>36</li><li>31</li><li>38</li><li>30</li><li>34</li><li>30</li><li>26</li><li>33</li><li>28</li><li>28</li><li>30</li><li>33</li><li>26</li><li>39</li><li>33</li><li>25</li><li>25</li><li>29</li><li>32</li><li>28</li><li>28</li><li>31</li><li>35</li><li>28</li><li>28</li><li>33</li><li>29</li><li>30</li><li>40</li><li>37</li><li>37</li><li>37</li><li>39</li><li>39</li><li>33</li><li>32</li><li>25</li><li>39</li><li>31</li><li>25</li></ol>\n"
      ],
      "text/latex": [
       "\\begin{enumerate*}\n",
       "\\item 31\n",
       "\\item 36\n",
       "\\item 25\n",
       "\\item 26\n",
       "\\item 34\n",
       "\\item 32\n",
       "\\item 34\n",
       "\\item 36\n",
       "\\item 40\n",
       "\\item 40\n",
       "\\item 36\n",
       "\\item 31\n",
       "\\item 38\n",
       "\\item 30\n",
       "\\item 34\n",
       "\\item 30\n",
       "\\item 26\n",
       "\\item 33\n",
       "\\item 28\n",
       "\\item 28\n",
       "\\item 30\n",
       "\\item 33\n",
       "\\item 26\n",
       "\\item 39\n",
       "\\item 33\n",
       "\\item 25\n",
       "\\item 25\n",
       "\\item 29\n",
       "\\item 32\n",
       "\\item 28\n",
       "\\item 28\n",
       "\\item 31\n",
       "\\item 35\n",
       "\\item 28\n",
       "\\item 28\n",
       "\\item 33\n",
       "\\item 29\n",
       "\\item 30\n",
       "\\item 40\n",
       "\\item 37\n",
       "\\item 37\n",
       "\\item 37\n",
       "\\item 39\n",
       "\\item 39\n",
       "\\item 33\n",
       "\\item 32\n",
       "\\item 25\n",
       "\\item 39\n",
       "\\item 31\n",
       "\\item 25\n",
       "\\end{enumerate*}\n"
      ],
      "text/markdown": [
       "1. 31\n",
       "2. 36\n",
       "3. 25\n",
       "4. 26\n",
       "5. 34\n",
       "6. 32\n",
       "7. 34\n",
       "8. 36\n",
       "9. 40\n",
       "10. 40\n",
       "11. 36\n",
       "12. 31\n",
       "13. 38\n",
       "14. 30\n",
       "15. 34\n",
       "16. 30\n",
       "17. 26\n",
       "18. 33\n",
       "19. 28\n",
       "20. 28\n",
       "21. 30\n",
       "22. 33\n",
       "23. 26\n",
       "24. 39\n",
       "25. 33\n",
       "26. 25\n",
       "27. 25\n",
       "28. 29\n",
       "29. 32\n",
       "30. 28\n",
       "31. 28\n",
       "32. 31\n",
       "33. 35\n",
       "34. 28\n",
       "35. 28\n",
       "36. 33\n",
       "37. 29\n",
       "38. 30\n",
       "39. 40\n",
       "40. 37\n",
       "41. 37\n",
       "42. 37\n",
       "43. 39\n",
       "44. 39\n",
       "45. 33\n",
       "46. 32\n",
       "47. 25\n",
       "48. 39\n",
       "49. 31\n",
       "50. 25\n",
       "\n",
       "\n"
      ],
      "text/plain": [
       " [1] 31 36 25 26 34 32 34 36 40 40 36 31 38 30 34 30 26 33 28 28 30 33 26 39 33\n",
       "[26] 25 25 29 32 28 28 31 35 28 28 33 29 30 40 37 37 37 39 39 33 32 25 39 31 25"
      ]
     },
     "metadata": {},
     "output_type": "display_data"
    }
   ],
   "source": [
    "age"
   ]
  },
  {
   "cell_type": "markdown",
   "id": "6e596d4a-6020-4bfe-a687-fabd56148c74",
   "metadata": {},
   "source": [
    "### Assign each employee a job position, randomly selecting from the following categories:\"Software Engineer\", \"Data Analyst\", \"System Administrator\", \"Project Manager\""
   ]
  },
  {
   "cell_type": "code",
   "execution_count": 26,
   "id": "00665397-1883-43da-bfcd-8e925ef877f3",
   "metadata": {},
   "outputs": [],
   "source": [
    "job_position <- sample(c(\"Software Engineer\", \"Data Analyst\", \"System Administrator\", \"Project Manager\"), 50, replace = TRUE)"
   ]
  },
  {
   "cell_type": "code",
   "execution_count": null,
   "id": "311fbe9e-352c-46c3-be36-33c7ce103165",
   "metadata": {},
   "outputs": [],
   "source": []
  },
  {
   "cell_type": "markdown",
   "id": "c806ba9e-bd6d-4f45-9787-88ac8dba2667",
   "metadata": {},
   "source": [
    "### Assign a base salary to each employee, ensuring it is a random value between 100,000 and 200,000 in multiples of 5,000"
   ]
  },
  {
   "cell_type": "code",
   "execution_count": 27,
   "id": "25dfb5a0-737b-4cf1-aeec-dc69c7b31837",
   "metadata": {},
   "outputs": [],
   "source": [
    "salary <- sample(seq(100000, 200000, 5000), 50, replace = TRUE)"
   ]
  },
  {
   "cell_type": "code",
   "execution_count": 28,
   "id": "88acb5b9-6037-429a-8fce-60a8970dc1ac",
   "metadata": {},
   "outputs": [
    {
     "data": {
      "text/html": [
       "<style>\n",
       ".list-inline {list-style: none; margin:0; padding: 0}\n",
       ".list-inline>li {display: inline-block}\n",
       ".list-inline>li:not(:last-child)::after {content: \"\\00b7\"; padding: 0 .5ex}\n",
       "</style>\n",
       "<ol class=list-inline><li>140000</li><li>150000</li><li>170000</li><li>135000</li><li>175000</li><li>145000</li><li>135000</li><li>170000</li><li>180000</li><li>135000</li><li>2e+05</li><li>115000</li><li>180000</li><li>2e+05</li><li>120000</li><li>110000</li><li>1e+05</li><li>2e+05</li><li>165000</li><li>135000</li><li>135000</li><li>160000</li><li>135000</li><li>130000</li><li>180000</li><li>115000</li><li>110000</li><li>120000</li><li>145000</li><li>1e+05</li><li>160000</li><li>160000</li><li>195000</li><li>195000</li><li>125000</li><li>190000</li><li>165000</li><li>125000</li><li>1e+05</li><li>160000</li><li>145000</li><li>175000</li><li>185000</li><li>105000</li><li>185000</li><li>185000</li><li>165000</li><li>195000</li><li>165000</li><li>110000</li></ol>\n"
      ],
      "text/latex": [
       "\\begin{enumerate*}\n",
       "\\item 140000\n",
       "\\item 150000\n",
       "\\item 170000\n",
       "\\item 135000\n",
       "\\item 175000\n",
       "\\item 145000\n",
       "\\item 135000\n",
       "\\item 170000\n",
       "\\item 180000\n",
       "\\item 135000\n",
       "\\item 2e+05\n",
       "\\item 115000\n",
       "\\item 180000\n",
       "\\item 2e+05\n",
       "\\item 120000\n",
       "\\item 110000\n",
       "\\item 1e+05\n",
       "\\item 2e+05\n",
       "\\item 165000\n",
       "\\item 135000\n",
       "\\item 135000\n",
       "\\item 160000\n",
       "\\item 135000\n",
       "\\item 130000\n",
       "\\item 180000\n",
       "\\item 115000\n",
       "\\item 110000\n",
       "\\item 120000\n",
       "\\item 145000\n",
       "\\item 1e+05\n",
       "\\item 160000\n",
       "\\item 160000\n",
       "\\item 195000\n",
       "\\item 195000\n",
       "\\item 125000\n",
       "\\item 190000\n",
       "\\item 165000\n",
       "\\item 125000\n",
       "\\item 1e+05\n",
       "\\item 160000\n",
       "\\item 145000\n",
       "\\item 175000\n",
       "\\item 185000\n",
       "\\item 105000\n",
       "\\item 185000\n",
       "\\item 185000\n",
       "\\item 165000\n",
       "\\item 195000\n",
       "\\item 165000\n",
       "\\item 110000\n",
       "\\end{enumerate*}\n"
      ],
      "text/markdown": [
       "1. 140000\n",
       "2. 150000\n",
       "3. 170000\n",
       "4. 135000\n",
       "5. 175000\n",
       "6. 145000\n",
       "7. 135000\n",
       "8. 170000\n",
       "9. 180000\n",
       "10. 135000\n",
       "11. 2e+05\n",
       "12. 115000\n",
       "13. 180000\n",
       "14. 2e+05\n",
       "15. 120000\n",
       "16. 110000\n",
       "17. 1e+05\n",
       "18. 2e+05\n",
       "19. 165000\n",
       "20. 135000\n",
       "21. 135000\n",
       "22. 160000\n",
       "23. 135000\n",
       "24. 130000\n",
       "25. 180000\n",
       "26. 115000\n",
       "27. 110000\n",
       "28. 120000\n",
       "29. 145000\n",
       "30. 1e+05\n",
       "31. 160000\n",
       "32. 160000\n",
       "33. 195000\n",
       "34. 195000\n",
       "35. 125000\n",
       "36. 190000\n",
       "37. 165000\n",
       "38. 125000\n",
       "39. 1e+05\n",
       "40. 160000\n",
       "41. 145000\n",
       "42. 175000\n",
       "43. 185000\n",
       "44. 105000\n",
       "45. 185000\n",
       "46. 185000\n",
       "47. 165000\n",
       "48. 195000\n",
       "49. 165000\n",
       "50. 110000\n",
       "\n",
       "\n"
      ],
      "text/plain": [
       " [1] 140000 150000 170000 135000 175000 145000 135000 170000 180000 135000\n",
       "[11] 200000 115000 180000 200000 120000 110000 100000 200000 165000 135000\n",
       "[21] 135000 160000 135000 130000 180000 115000 110000 120000 145000 100000\n",
       "[31] 160000 160000 195000 195000 125000 190000 165000 125000 100000 160000\n",
       "[41] 145000 175000 185000 105000 185000 185000 165000 195000 165000 110000"
      ]
     },
     "metadata": {},
     "output_type": "display_data"
    }
   ],
   "source": [
    "salary"
   ]
  },
  {
   "cell_type": "markdown",
   "id": "52d22ca4-687f-4b28-bcb1-9c2442115691",
   "metadata": {},
   "source": [
    "### Randomly assign a department "
   ]
  },
  {
   "cell_type": "code",
   "execution_count": 29,
   "id": "91cd9178-00fc-4a0f-8757-01b41be4b499",
   "metadata": {},
   "outputs": [],
   "source": [
    "department <- sample(c(\"IT\", \"Finance\", \"HR\", \"Marketing\"), 50, replace = TRUE)"
   ]
  },
  {
   "cell_type": "code",
   "execution_count": 30,
   "id": "3974609b-4443-4529-9403-c7101af8e4c0",
   "metadata": {},
   "outputs": [],
   "source": [
    "bonus <- sample(seq(5000, 20000, 1000), 50, replace = TRUE)"
   ]
  },
  {
   "cell_type": "code",
   "execution_count": 31,
   "id": "31e4a055-999d-4d2c-9f18-58c63f79761f",
   "metadata": {},
   "outputs": [],
   "source": [
    "years_experience <- sample(1:15, 50, replace = TRUE)"
   ]
  },
  {
   "cell_type": "markdown",
   "id": "50dae525-2340-434b-90db-1bbea6cf4eff",
   "metadata": {},
   "source": [
    "### Each employee is given a performance rating on a scale of 1 to 5"
   ]
  },
  {
   "cell_type": "code",
   "execution_count": 32,
   "id": "340bf007-4093-4fb3-9b29-2cbf068c8b36",
   "metadata": {},
   "outputs": [],
   "source": [
    "performance_rating <- sample(1:5, 50, replace = TRUE)"
   ]
  },
  {
   "cell_type": "markdown",
   "id": "c104275d-018c-47c0-bc22-746d12ba4a9f",
   "metadata": {},
   "source": [
    "### Assign Remote Work Eligibility, each employee is either eligible or not eligible for remote work. The probability of eligibility should be 60%."
   ]
  },
  {
   "cell_type": "code",
   "execution_count": 33,
   "id": "75a49c36-dc67-4ca2-8a79-f6ae02a6a66f",
   "metadata": {},
   "outputs": [],
   "source": [
    "remote_work <- sample(c(\"Eligible\", \"Not Eligible\"), 50, replace = TRUE, prob = c(0.6, 0.4))"
   ]
  },
  {
   "cell_type": "code",
   "execution_count": 34,
   "id": "ae46653e-161d-47f7-ad61-99fb8d8aeee8",
   "metadata": {},
   "outputs": [],
   "source": [
    "employee_data <- data.frame(\n",
    "  EmployeeID = factor(employee_id), \n",
    "  Gender = gender, \n",
    "  Age = age, \n",
    "  JobPosition = job_position, \n",
    "  Salary = salary, \n",
    "  Department = department, \n",
    "  Bonus = bonus, \n",
    "  YearsExperience = years_experience, \n",
    "  PerformanceRating = performance_rating, \n",
    "  RemoteWork = remote_work\n",
    ")"
   ]
  },
  {
   "cell_type": "code",
   "execution_count": 35,
   "id": "13feeddf-18f6-4b08-8084-f43e6075db51",
   "metadata": {},
   "outputs": [
    {
     "data": {
      "text/html": [
       "<table class=\"dataframe\">\n",
       "<caption>A data.frame: 50 × 10</caption>\n",
       "<thead>\n",
       "\t<tr><th scope=col>EmployeeID</th><th scope=col>Gender</th><th scope=col>Age</th><th scope=col>JobPosition</th><th scope=col>Salary</th><th scope=col>Department</th><th scope=col>Bonus</th><th scope=col>YearsExperience</th><th scope=col>PerformanceRating</th><th scope=col>RemoteWork</th></tr>\n",
       "\t<tr><th scope=col>&lt;fct&gt;</th><th scope=col>&lt;chr&gt;</th><th scope=col>&lt;int&gt;</th><th scope=col>&lt;chr&gt;</th><th scope=col>&lt;dbl&gt;</th><th scope=col>&lt;chr&gt;</th><th scope=col>&lt;dbl&gt;</th><th scope=col>&lt;int&gt;</th><th scope=col>&lt;int&gt;</th><th scope=col>&lt;chr&gt;</th></tr>\n",
       "</thead>\n",
       "<tbody>\n",
       "\t<tr><td>E1001</td><td>Male  </td><td>31</td><td>Project Manager     </td><td>140000</td><td>IT       </td><td> 9000</td><td>11</td><td>3</td><td>Eligible    </td></tr>\n",
       "\t<tr><td>E1002</td><td>Female</td><td>36</td><td>Project Manager     </td><td>150000</td><td>Marketing</td><td>10000</td><td> 8</td><td>3</td><td>Eligible    </td></tr>\n",
       "\t<tr><td>E1003</td><td>Male  </td><td>25</td><td>Data Analyst        </td><td>170000</td><td>IT       </td><td> 8000</td><td>13</td><td>2</td><td>Not Eligible</td></tr>\n",
       "\t<tr><td>E1004</td><td>Male  </td><td>26</td><td>Project Manager     </td><td>135000</td><td>IT       </td><td>16000</td><td> 5</td><td>1</td><td>Eligible    </td></tr>\n",
       "\t<tr><td>E1005</td><td>Male  </td><td>34</td><td>Project Manager     </td><td>175000</td><td>IT       </td><td>13000</td><td> 4</td><td>5</td><td>Not Eligible</td></tr>\n",
       "\t<tr><td>E1006</td><td>Male  </td><td>32</td><td>Project Manager     </td><td>145000</td><td>Finance  </td><td>19000</td><td>15</td><td>3</td><td>Not Eligible</td></tr>\n",
       "\t<tr><td>E1007</td><td>Male  </td><td>34</td><td>Software Engineer   </td><td>135000</td><td>IT       </td><td> 7000</td><td>11</td><td>1</td><td>Eligible    </td></tr>\n",
       "\t<tr><td>E1008</td><td>Female</td><td>36</td><td>Project Manager     </td><td>170000</td><td>Marketing</td><td>12000</td><td>11</td><td>2</td><td>Not Eligible</td></tr>\n",
       "\t<tr><td>E1009</td><td>Male  </td><td>40</td><td>Data Analyst        </td><td>180000</td><td>Marketing</td><td> 7000</td><td> 4</td><td>4</td><td>Eligible    </td></tr>\n",
       "\t<tr><td>E1010</td><td>Male  </td><td>40</td><td>System Administrator</td><td>135000</td><td>Finance  </td><td>20000</td><td> 3</td><td>3</td><td>Eligible    </td></tr>\n",
       "\t<tr><td>E1011</td><td>Male  </td><td>36</td><td>Software Engineer   </td><td>200000</td><td>Finance  </td><td> 9000</td><td>13</td><td>2</td><td>Eligible    </td></tr>\n",
       "\t<tr><td>E1012</td><td>Male  </td><td>31</td><td>Data Analyst        </td><td>115000</td><td>Marketing</td><td>20000</td><td> 8</td><td>2</td><td>Not Eligible</td></tr>\n",
       "\t<tr><td>E1013</td><td>Female</td><td>38</td><td>Data Analyst        </td><td>180000</td><td>Marketing</td><td>14000</td><td> 2</td><td>4</td><td>Not Eligible</td></tr>\n",
       "\t<tr><td>E1014</td><td>Female</td><td>30</td><td>System Administrator</td><td>200000</td><td>Marketing</td><td>16000</td><td> 1</td><td>2</td><td>Not Eligible</td></tr>\n",
       "\t<tr><td>E1015</td><td>Male  </td><td>34</td><td>Project Manager     </td><td>120000</td><td>Marketing</td><td>20000</td><td>13</td><td>5</td><td>Not Eligible</td></tr>\n",
       "\t<tr><td>E1016</td><td>Male  </td><td>30</td><td>Data Analyst        </td><td>110000</td><td>Finance  </td><td> 7000</td><td>12</td><td>3</td><td>Eligible    </td></tr>\n",
       "\t<tr><td>E1017</td><td>Male  </td><td>26</td><td>System Administrator</td><td>100000</td><td>IT       </td><td>13000</td><td> 8</td><td>4</td><td>Eligible    </td></tr>\n",
       "\t<tr><td>E1018</td><td>Male  </td><td>33</td><td>System Administrator</td><td>200000</td><td>Finance  </td><td>18000</td><td> 9</td><td>4</td><td>Eligible    </td></tr>\n",
       "\t<tr><td>E1019</td><td>Male  </td><td>28</td><td>Project Manager     </td><td>165000</td><td>IT       </td><td>14000</td><td>15</td><td>4</td><td>Eligible    </td></tr>\n",
       "\t<tr><td>E1020</td><td>Male  </td><td>28</td><td>Project Manager     </td><td>135000</td><td>Marketing</td><td>15000</td><td>13</td><td>1</td><td>Eligible    </td></tr>\n",
       "\t<tr><td>E1021</td><td>Male  </td><td>30</td><td>System Administrator</td><td>135000</td><td>IT       </td><td>19000</td><td> 4</td><td>4</td><td>Not Eligible</td></tr>\n",
       "\t<tr><td>E1022</td><td>Male  </td><td>33</td><td>System Administrator</td><td>160000</td><td>HR       </td><td>10000</td><td>11</td><td>3</td><td>Eligible    </td></tr>\n",
       "\t<tr><td>E1023</td><td>Male  </td><td>26</td><td>System Administrator</td><td>135000</td><td>Marketing</td><td>17000</td><td> 5</td><td>5</td><td>Not Eligible</td></tr>\n",
       "\t<tr><td>E1024</td><td>Male  </td><td>39</td><td>System Administrator</td><td>130000</td><td>HR       </td><td>17000</td><td> 4</td><td>2</td><td>Not Eligible</td></tr>\n",
       "\t<tr><td>E1025</td><td>Male  </td><td>33</td><td>Project Manager     </td><td>180000</td><td>Marketing</td><td>11000</td><td> 1</td><td>4</td><td>Not Eligible</td></tr>\n",
       "\t<tr><td>E1026</td><td>Female</td><td>25</td><td>Software Engineer   </td><td>115000</td><td>Marketing</td><td> 5000</td><td> 3</td><td>4</td><td>Eligible    </td></tr>\n",
       "\t<tr><td>E1027</td><td>Male  </td><td>25</td><td>Data Analyst        </td><td>110000</td><td>IT       </td><td>19000</td><td> 6</td><td>4</td><td>Eligible    </td></tr>\n",
       "\t<tr><td>E1028</td><td>Male  </td><td>29</td><td>Software Engineer   </td><td>120000</td><td>Marketing</td><td> 5000</td><td> 7</td><td>5</td><td>Eligible    </td></tr>\n",
       "\t<tr><td>E1029</td><td>Female</td><td>32</td><td>System Administrator</td><td>145000</td><td>Marketing</td><td>13000</td><td>15</td><td>2</td><td>Not Eligible</td></tr>\n",
       "\t<tr><td>E1030</td><td>Male  </td><td>28</td><td>System Administrator</td><td>100000</td><td>Finance  </td><td> 7000</td><td> 2</td><td>3</td><td>Eligible    </td></tr>\n",
       "\t<tr><td>E1031</td><td>Male  </td><td>28</td><td>Software Engineer   </td><td>160000</td><td>Marketing</td><td> 8000</td><td> 1</td><td>5</td><td>Eligible    </td></tr>\n",
       "\t<tr><td>E1032</td><td>Female</td><td>31</td><td>Project Manager     </td><td>160000</td><td>Finance  </td><td> 9000</td><td>10</td><td>3</td><td>Not Eligible</td></tr>\n",
       "\t<tr><td>E1033</td><td>Male  </td><td>35</td><td>System Administrator</td><td>195000</td><td>HR       </td><td>11000</td><td> 5</td><td>2</td><td>Eligible    </td></tr>\n",
       "\t<tr><td>E1034</td><td>Male  </td><td>28</td><td>System Administrator</td><td>195000</td><td>Marketing</td><td> 6000</td><td>11</td><td>3</td><td>Not Eligible</td></tr>\n",
       "\t<tr><td>E1035</td><td>Male  </td><td>28</td><td>Project Manager     </td><td>125000</td><td>HR       </td><td> 8000</td><td>14</td><td>4</td><td>Not Eligible</td></tr>\n",
       "\t<tr><td>E1036</td><td>Male  </td><td>33</td><td>Data Analyst        </td><td>190000</td><td>Marketing</td><td>12000</td><td> 8</td><td>4</td><td>Eligible    </td></tr>\n",
       "\t<tr><td>E1037</td><td>Male  </td><td>29</td><td>Project Manager     </td><td>165000</td><td>IT       </td><td>20000</td><td> 6</td><td>5</td><td>Eligible    </td></tr>\n",
       "\t<tr><td>E1038</td><td>Female</td><td>30</td><td>Data Analyst        </td><td>125000</td><td>Finance  </td><td>14000</td><td> 6</td><td>3</td><td>Not Eligible</td></tr>\n",
       "\t<tr><td>E1039</td><td>Male  </td><td>40</td><td>Data Analyst        </td><td>100000</td><td>HR       </td><td>14000</td><td>15</td><td>1</td><td>Eligible    </td></tr>\n",
       "\t<tr><td>E1040</td><td>Male  </td><td>37</td><td>System Administrator</td><td>160000</td><td>IT       </td><td>19000</td><td> 3</td><td>4</td><td>Eligible    </td></tr>\n",
       "\t<tr><td>E1041</td><td>Male  </td><td>37</td><td>System Administrator</td><td>145000</td><td>Marketing</td><td>10000</td><td> 3</td><td>5</td><td>Eligible    </td></tr>\n",
       "\t<tr><td>E1042</td><td>Male  </td><td>37</td><td>Project Manager     </td><td>175000</td><td>IT       </td><td> 5000</td><td> 6</td><td>3</td><td>Eligible    </td></tr>\n",
       "\t<tr><td>E1043</td><td>Female</td><td>39</td><td>Data Analyst        </td><td>185000</td><td>IT       </td><td> 6000</td><td> 2</td><td>3</td><td>Eligible    </td></tr>\n",
       "\t<tr><td>E1044</td><td>Male  </td><td>39</td><td>Project Manager     </td><td>105000</td><td>Marketing</td><td>16000</td><td>15</td><td>2</td><td>Eligible    </td></tr>\n",
       "\t<tr><td>E1045</td><td>Male  </td><td>33</td><td>Project Manager     </td><td>185000</td><td>IT       </td><td> 8000</td><td>11</td><td>5</td><td>Not Eligible</td></tr>\n",
       "\t<tr><td>E1046</td><td>Female</td><td>32</td><td>Data Analyst        </td><td>185000</td><td>HR       </td><td> 6000</td><td> 1</td><td>3</td><td>Eligible    </td></tr>\n",
       "\t<tr><td>E1047</td><td>Male  </td><td>25</td><td>System Administrator</td><td>165000</td><td>Finance  </td><td> 8000</td><td> 7</td><td>3</td><td>Not Eligible</td></tr>\n",
       "\t<tr><td>E1048</td><td>Female</td><td>39</td><td>Data Analyst        </td><td>195000</td><td>Marketing</td><td>20000</td><td>12</td><td>5</td><td>Eligible    </td></tr>\n",
       "\t<tr><td>E1049</td><td>Female</td><td>31</td><td>Software Engineer   </td><td>165000</td><td>Marketing</td><td>15000</td><td>14</td><td>2</td><td>Not Eligible</td></tr>\n",
       "\t<tr><td>E1050</td><td>Male  </td><td>25</td><td>Project Manager     </td><td>110000</td><td>Marketing</td><td> 5000</td><td>13</td><td>3</td><td>Eligible    </td></tr>\n",
       "</tbody>\n",
       "</table>\n"
      ],
      "text/latex": [
       "A data.frame: 50 × 10\n",
       "\\begin{tabular}{llllllllll}\n",
       " EmployeeID & Gender & Age & JobPosition & Salary & Department & Bonus & YearsExperience & PerformanceRating & RemoteWork\\\\\n",
       " <fct> & <chr> & <int> & <chr> & <dbl> & <chr> & <dbl> & <int> & <int> & <chr>\\\\\n",
       "\\hline\n",
       "\t E1001 & Male   & 31 & Project Manager      & 140000 & IT        &  9000 & 11 & 3 & Eligible    \\\\\n",
       "\t E1002 & Female & 36 & Project Manager      & 150000 & Marketing & 10000 &  8 & 3 & Eligible    \\\\\n",
       "\t E1003 & Male   & 25 & Data Analyst         & 170000 & IT        &  8000 & 13 & 2 & Not Eligible\\\\\n",
       "\t E1004 & Male   & 26 & Project Manager      & 135000 & IT        & 16000 &  5 & 1 & Eligible    \\\\\n",
       "\t E1005 & Male   & 34 & Project Manager      & 175000 & IT        & 13000 &  4 & 5 & Not Eligible\\\\\n",
       "\t E1006 & Male   & 32 & Project Manager      & 145000 & Finance   & 19000 & 15 & 3 & Not Eligible\\\\\n",
       "\t E1007 & Male   & 34 & Software Engineer    & 135000 & IT        &  7000 & 11 & 1 & Eligible    \\\\\n",
       "\t E1008 & Female & 36 & Project Manager      & 170000 & Marketing & 12000 & 11 & 2 & Not Eligible\\\\\n",
       "\t E1009 & Male   & 40 & Data Analyst         & 180000 & Marketing &  7000 &  4 & 4 & Eligible    \\\\\n",
       "\t E1010 & Male   & 40 & System Administrator & 135000 & Finance   & 20000 &  3 & 3 & Eligible    \\\\\n",
       "\t E1011 & Male   & 36 & Software Engineer    & 200000 & Finance   &  9000 & 13 & 2 & Eligible    \\\\\n",
       "\t E1012 & Male   & 31 & Data Analyst         & 115000 & Marketing & 20000 &  8 & 2 & Not Eligible\\\\\n",
       "\t E1013 & Female & 38 & Data Analyst         & 180000 & Marketing & 14000 &  2 & 4 & Not Eligible\\\\\n",
       "\t E1014 & Female & 30 & System Administrator & 200000 & Marketing & 16000 &  1 & 2 & Not Eligible\\\\\n",
       "\t E1015 & Male   & 34 & Project Manager      & 120000 & Marketing & 20000 & 13 & 5 & Not Eligible\\\\\n",
       "\t E1016 & Male   & 30 & Data Analyst         & 110000 & Finance   &  7000 & 12 & 3 & Eligible    \\\\\n",
       "\t E1017 & Male   & 26 & System Administrator & 100000 & IT        & 13000 &  8 & 4 & Eligible    \\\\\n",
       "\t E1018 & Male   & 33 & System Administrator & 200000 & Finance   & 18000 &  9 & 4 & Eligible    \\\\\n",
       "\t E1019 & Male   & 28 & Project Manager      & 165000 & IT        & 14000 & 15 & 4 & Eligible    \\\\\n",
       "\t E1020 & Male   & 28 & Project Manager      & 135000 & Marketing & 15000 & 13 & 1 & Eligible    \\\\\n",
       "\t E1021 & Male   & 30 & System Administrator & 135000 & IT        & 19000 &  4 & 4 & Not Eligible\\\\\n",
       "\t E1022 & Male   & 33 & System Administrator & 160000 & HR        & 10000 & 11 & 3 & Eligible    \\\\\n",
       "\t E1023 & Male   & 26 & System Administrator & 135000 & Marketing & 17000 &  5 & 5 & Not Eligible\\\\\n",
       "\t E1024 & Male   & 39 & System Administrator & 130000 & HR        & 17000 &  4 & 2 & Not Eligible\\\\\n",
       "\t E1025 & Male   & 33 & Project Manager      & 180000 & Marketing & 11000 &  1 & 4 & Not Eligible\\\\\n",
       "\t E1026 & Female & 25 & Software Engineer    & 115000 & Marketing &  5000 &  3 & 4 & Eligible    \\\\\n",
       "\t E1027 & Male   & 25 & Data Analyst         & 110000 & IT        & 19000 &  6 & 4 & Eligible    \\\\\n",
       "\t E1028 & Male   & 29 & Software Engineer    & 120000 & Marketing &  5000 &  7 & 5 & Eligible    \\\\\n",
       "\t E1029 & Female & 32 & System Administrator & 145000 & Marketing & 13000 & 15 & 2 & Not Eligible\\\\\n",
       "\t E1030 & Male   & 28 & System Administrator & 100000 & Finance   &  7000 &  2 & 3 & Eligible    \\\\\n",
       "\t E1031 & Male   & 28 & Software Engineer    & 160000 & Marketing &  8000 &  1 & 5 & Eligible    \\\\\n",
       "\t E1032 & Female & 31 & Project Manager      & 160000 & Finance   &  9000 & 10 & 3 & Not Eligible\\\\\n",
       "\t E1033 & Male   & 35 & System Administrator & 195000 & HR        & 11000 &  5 & 2 & Eligible    \\\\\n",
       "\t E1034 & Male   & 28 & System Administrator & 195000 & Marketing &  6000 & 11 & 3 & Not Eligible\\\\\n",
       "\t E1035 & Male   & 28 & Project Manager      & 125000 & HR        &  8000 & 14 & 4 & Not Eligible\\\\\n",
       "\t E1036 & Male   & 33 & Data Analyst         & 190000 & Marketing & 12000 &  8 & 4 & Eligible    \\\\\n",
       "\t E1037 & Male   & 29 & Project Manager      & 165000 & IT        & 20000 &  6 & 5 & Eligible    \\\\\n",
       "\t E1038 & Female & 30 & Data Analyst         & 125000 & Finance   & 14000 &  6 & 3 & Not Eligible\\\\\n",
       "\t E1039 & Male   & 40 & Data Analyst         & 100000 & HR        & 14000 & 15 & 1 & Eligible    \\\\\n",
       "\t E1040 & Male   & 37 & System Administrator & 160000 & IT        & 19000 &  3 & 4 & Eligible    \\\\\n",
       "\t E1041 & Male   & 37 & System Administrator & 145000 & Marketing & 10000 &  3 & 5 & Eligible    \\\\\n",
       "\t E1042 & Male   & 37 & Project Manager      & 175000 & IT        &  5000 &  6 & 3 & Eligible    \\\\\n",
       "\t E1043 & Female & 39 & Data Analyst         & 185000 & IT        &  6000 &  2 & 3 & Eligible    \\\\\n",
       "\t E1044 & Male   & 39 & Project Manager      & 105000 & Marketing & 16000 & 15 & 2 & Eligible    \\\\\n",
       "\t E1045 & Male   & 33 & Project Manager      & 185000 & IT        &  8000 & 11 & 5 & Not Eligible\\\\\n",
       "\t E1046 & Female & 32 & Data Analyst         & 185000 & HR        &  6000 &  1 & 3 & Eligible    \\\\\n",
       "\t E1047 & Male   & 25 & System Administrator & 165000 & Finance   &  8000 &  7 & 3 & Not Eligible\\\\\n",
       "\t E1048 & Female & 39 & Data Analyst         & 195000 & Marketing & 20000 & 12 & 5 & Eligible    \\\\\n",
       "\t E1049 & Female & 31 & Software Engineer    & 165000 & Marketing & 15000 & 14 & 2 & Not Eligible\\\\\n",
       "\t E1050 & Male   & 25 & Project Manager      & 110000 & Marketing &  5000 & 13 & 3 & Eligible    \\\\\n",
       "\\end{tabular}\n"
      ],
      "text/markdown": [
       "\n",
       "A data.frame: 50 × 10\n",
       "\n",
       "| EmployeeID &lt;fct&gt; | Gender &lt;chr&gt; | Age &lt;int&gt; | JobPosition &lt;chr&gt; | Salary &lt;dbl&gt; | Department &lt;chr&gt; | Bonus &lt;dbl&gt; | YearsExperience &lt;int&gt; | PerformanceRating &lt;int&gt; | RemoteWork &lt;chr&gt; |\n",
       "|---|---|---|---|---|---|---|---|---|---|\n",
       "| E1001 | Male   | 31 | Project Manager      | 140000 | IT        |  9000 | 11 | 3 | Eligible     |\n",
       "| E1002 | Female | 36 | Project Manager      | 150000 | Marketing | 10000 |  8 | 3 | Eligible     |\n",
       "| E1003 | Male   | 25 | Data Analyst         | 170000 | IT        |  8000 | 13 | 2 | Not Eligible |\n",
       "| E1004 | Male   | 26 | Project Manager      | 135000 | IT        | 16000 |  5 | 1 | Eligible     |\n",
       "| E1005 | Male   | 34 | Project Manager      | 175000 | IT        | 13000 |  4 | 5 | Not Eligible |\n",
       "| E1006 | Male   | 32 | Project Manager      | 145000 | Finance   | 19000 | 15 | 3 | Not Eligible |\n",
       "| E1007 | Male   | 34 | Software Engineer    | 135000 | IT        |  7000 | 11 | 1 | Eligible     |\n",
       "| E1008 | Female | 36 | Project Manager      | 170000 | Marketing | 12000 | 11 | 2 | Not Eligible |\n",
       "| E1009 | Male   | 40 | Data Analyst         | 180000 | Marketing |  7000 |  4 | 4 | Eligible     |\n",
       "| E1010 | Male   | 40 | System Administrator | 135000 | Finance   | 20000 |  3 | 3 | Eligible     |\n",
       "| E1011 | Male   | 36 | Software Engineer    | 200000 | Finance   |  9000 | 13 | 2 | Eligible     |\n",
       "| E1012 | Male   | 31 | Data Analyst         | 115000 | Marketing | 20000 |  8 | 2 | Not Eligible |\n",
       "| E1013 | Female | 38 | Data Analyst         | 180000 | Marketing | 14000 |  2 | 4 | Not Eligible |\n",
       "| E1014 | Female | 30 | System Administrator | 200000 | Marketing | 16000 |  1 | 2 | Not Eligible |\n",
       "| E1015 | Male   | 34 | Project Manager      | 120000 | Marketing | 20000 | 13 | 5 | Not Eligible |\n",
       "| E1016 | Male   | 30 | Data Analyst         | 110000 | Finance   |  7000 | 12 | 3 | Eligible     |\n",
       "| E1017 | Male   | 26 | System Administrator | 100000 | IT        | 13000 |  8 | 4 | Eligible     |\n",
       "| E1018 | Male   | 33 | System Administrator | 200000 | Finance   | 18000 |  9 | 4 | Eligible     |\n",
       "| E1019 | Male   | 28 | Project Manager      | 165000 | IT        | 14000 | 15 | 4 | Eligible     |\n",
       "| E1020 | Male   | 28 | Project Manager      | 135000 | Marketing | 15000 | 13 | 1 | Eligible     |\n",
       "| E1021 | Male   | 30 | System Administrator | 135000 | IT        | 19000 |  4 | 4 | Not Eligible |\n",
       "| E1022 | Male   | 33 | System Administrator | 160000 | HR        | 10000 | 11 | 3 | Eligible     |\n",
       "| E1023 | Male   | 26 | System Administrator | 135000 | Marketing | 17000 |  5 | 5 | Not Eligible |\n",
       "| E1024 | Male   | 39 | System Administrator | 130000 | HR        | 17000 |  4 | 2 | Not Eligible |\n",
       "| E1025 | Male   | 33 | Project Manager      | 180000 | Marketing | 11000 |  1 | 4 | Not Eligible |\n",
       "| E1026 | Female | 25 | Software Engineer    | 115000 | Marketing |  5000 |  3 | 4 | Eligible     |\n",
       "| E1027 | Male   | 25 | Data Analyst         | 110000 | IT        | 19000 |  6 | 4 | Eligible     |\n",
       "| E1028 | Male   | 29 | Software Engineer    | 120000 | Marketing |  5000 |  7 | 5 | Eligible     |\n",
       "| E1029 | Female | 32 | System Administrator | 145000 | Marketing | 13000 | 15 | 2 | Not Eligible |\n",
       "| E1030 | Male   | 28 | System Administrator | 100000 | Finance   |  7000 |  2 | 3 | Eligible     |\n",
       "| E1031 | Male   | 28 | Software Engineer    | 160000 | Marketing |  8000 |  1 | 5 | Eligible     |\n",
       "| E1032 | Female | 31 | Project Manager      | 160000 | Finance   |  9000 | 10 | 3 | Not Eligible |\n",
       "| E1033 | Male   | 35 | System Administrator | 195000 | HR        | 11000 |  5 | 2 | Eligible     |\n",
       "| E1034 | Male   | 28 | System Administrator | 195000 | Marketing |  6000 | 11 | 3 | Not Eligible |\n",
       "| E1035 | Male   | 28 | Project Manager      | 125000 | HR        |  8000 | 14 | 4 | Not Eligible |\n",
       "| E1036 | Male   | 33 | Data Analyst         | 190000 | Marketing | 12000 |  8 | 4 | Eligible     |\n",
       "| E1037 | Male   | 29 | Project Manager      | 165000 | IT        | 20000 |  6 | 5 | Eligible     |\n",
       "| E1038 | Female | 30 | Data Analyst         | 125000 | Finance   | 14000 |  6 | 3 | Not Eligible |\n",
       "| E1039 | Male   | 40 | Data Analyst         | 100000 | HR        | 14000 | 15 | 1 | Eligible     |\n",
       "| E1040 | Male   | 37 | System Administrator | 160000 | IT        | 19000 |  3 | 4 | Eligible     |\n",
       "| E1041 | Male   | 37 | System Administrator | 145000 | Marketing | 10000 |  3 | 5 | Eligible     |\n",
       "| E1042 | Male   | 37 | Project Manager      | 175000 | IT        |  5000 |  6 | 3 | Eligible     |\n",
       "| E1043 | Female | 39 | Data Analyst         | 185000 | IT        |  6000 |  2 | 3 | Eligible     |\n",
       "| E1044 | Male   | 39 | Project Manager      | 105000 | Marketing | 16000 | 15 | 2 | Eligible     |\n",
       "| E1045 | Male   | 33 | Project Manager      | 185000 | IT        |  8000 | 11 | 5 | Not Eligible |\n",
       "| E1046 | Female | 32 | Data Analyst         | 185000 | HR        |  6000 |  1 | 3 | Eligible     |\n",
       "| E1047 | Male   | 25 | System Administrator | 165000 | Finance   |  8000 |  7 | 3 | Not Eligible |\n",
       "| E1048 | Female | 39 | Data Analyst         | 195000 | Marketing | 20000 | 12 | 5 | Eligible     |\n",
       "| E1049 | Female | 31 | Software Engineer    | 165000 | Marketing | 15000 | 14 | 2 | Not Eligible |\n",
       "| E1050 | Male   | 25 | Project Manager      | 110000 | Marketing |  5000 | 13 | 3 | Eligible     |\n",
       "\n"
      ],
      "text/plain": [
       "   EmployeeID Gender Age JobPosition          Salary Department Bonus\n",
       "1  E1001      Male   31  Project Manager      140000 IT          9000\n",
       "2  E1002      Female 36  Project Manager      150000 Marketing  10000\n",
       "3  E1003      Male   25  Data Analyst         170000 IT          8000\n",
       "4  E1004      Male   26  Project Manager      135000 IT         16000\n",
       "5  E1005      Male   34  Project Manager      175000 IT         13000\n",
       "6  E1006      Male   32  Project Manager      145000 Finance    19000\n",
       "7  E1007      Male   34  Software Engineer    135000 IT          7000\n",
       "8  E1008      Female 36  Project Manager      170000 Marketing  12000\n",
       "9  E1009      Male   40  Data Analyst         180000 Marketing   7000\n",
       "10 E1010      Male   40  System Administrator 135000 Finance    20000\n",
       "11 E1011      Male   36  Software Engineer    200000 Finance     9000\n",
       "12 E1012      Male   31  Data Analyst         115000 Marketing  20000\n",
       "13 E1013      Female 38  Data Analyst         180000 Marketing  14000\n",
       "14 E1014      Female 30  System Administrator 200000 Marketing  16000\n",
       "15 E1015      Male   34  Project Manager      120000 Marketing  20000\n",
       "16 E1016      Male   30  Data Analyst         110000 Finance     7000\n",
       "17 E1017      Male   26  System Administrator 100000 IT         13000\n",
       "18 E1018      Male   33  System Administrator 200000 Finance    18000\n",
       "19 E1019      Male   28  Project Manager      165000 IT         14000\n",
       "20 E1020      Male   28  Project Manager      135000 Marketing  15000\n",
       "21 E1021      Male   30  System Administrator 135000 IT         19000\n",
       "22 E1022      Male   33  System Administrator 160000 HR         10000\n",
       "23 E1023      Male   26  System Administrator 135000 Marketing  17000\n",
       "24 E1024      Male   39  System Administrator 130000 HR         17000\n",
       "25 E1025      Male   33  Project Manager      180000 Marketing  11000\n",
       "26 E1026      Female 25  Software Engineer    115000 Marketing   5000\n",
       "27 E1027      Male   25  Data Analyst         110000 IT         19000\n",
       "28 E1028      Male   29  Software Engineer    120000 Marketing   5000\n",
       "29 E1029      Female 32  System Administrator 145000 Marketing  13000\n",
       "30 E1030      Male   28  System Administrator 100000 Finance     7000\n",
       "31 E1031      Male   28  Software Engineer    160000 Marketing   8000\n",
       "32 E1032      Female 31  Project Manager      160000 Finance     9000\n",
       "33 E1033      Male   35  System Administrator 195000 HR         11000\n",
       "34 E1034      Male   28  System Administrator 195000 Marketing   6000\n",
       "35 E1035      Male   28  Project Manager      125000 HR          8000\n",
       "36 E1036      Male   33  Data Analyst         190000 Marketing  12000\n",
       "37 E1037      Male   29  Project Manager      165000 IT         20000\n",
       "38 E1038      Female 30  Data Analyst         125000 Finance    14000\n",
       "39 E1039      Male   40  Data Analyst         100000 HR         14000\n",
       "40 E1040      Male   37  System Administrator 160000 IT         19000\n",
       "41 E1041      Male   37  System Administrator 145000 Marketing  10000\n",
       "42 E1042      Male   37  Project Manager      175000 IT          5000\n",
       "43 E1043      Female 39  Data Analyst         185000 IT          6000\n",
       "44 E1044      Male   39  Project Manager      105000 Marketing  16000\n",
       "45 E1045      Male   33  Project Manager      185000 IT          8000\n",
       "46 E1046      Female 32  Data Analyst         185000 HR          6000\n",
       "47 E1047      Male   25  System Administrator 165000 Finance     8000\n",
       "48 E1048      Female 39  Data Analyst         195000 Marketing  20000\n",
       "49 E1049      Female 31  Software Engineer    165000 Marketing  15000\n",
       "50 E1050      Male   25  Project Manager      110000 Marketing   5000\n",
       "   YearsExperience PerformanceRating RemoteWork  \n",
       "1  11              3                 Eligible    \n",
       "2   8              3                 Eligible    \n",
       "3  13              2                 Not Eligible\n",
       "4   5              1                 Eligible    \n",
       "5   4              5                 Not Eligible\n",
       "6  15              3                 Not Eligible\n",
       "7  11              1                 Eligible    \n",
       "8  11              2                 Not Eligible\n",
       "9   4              4                 Eligible    \n",
       "10  3              3                 Eligible    \n",
       "11 13              2                 Eligible    \n",
       "12  8              2                 Not Eligible\n",
       "13  2              4                 Not Eligible\n",
       "14  1              2                 Not Eligible\n",
       "15 13              5                 Not Eligible\n",
       "16 12              3                 Eligible    \n",
       "17  8              4                 Eligible    \n",
       "18  9              4                 Eligible    \n",
       "19 15              4                 Eligible    \n",
       "20 13              1                 Eligible    \n",
       "21  4              4                 Not Eligible\n",
       "22 11              3                 Eligible    \n",
       "23  5              5                 Not Eligible\n",
       "24  4              2                 Not Eligible\n",
       "25  1              4                 Not Eligible\n",
       "26  3              4                 Eligible    \n",
       "27  6              4                 Eligible    \n",
       "28  7              5                 Eligible    \n",
       "29 15              2                 Not Eligible\n",
       "30  2              3                 Eligible    \n",
       "31  1              5                 Eligible    \n",
       "32 10              3                 Not Eligible\n",
       "33  5              2                 Eligible    \n",
       "34 11              3                 Not Eligible\n",
       "35 14              4                 Not Eligible\n",
       "36  8              4                 Eligible    \n",
       "37  6              5                 Eligible    \n",
       "38  6              3                 Not Eligible\n",
       "39 15              1                 Eligible    \n",
       "40  3              4                 Eligible    \n",
       "41  3              5                 Eligible    \n",
       "42  6              3                 Eligible    \n",
       "43  2              3                 Eligible    \n",
       "44 15              2                 Eligible    \n",
       "45 11              5                 Not Eligible\n",
       "46  1              3                 Eligible    \n",
       "47  7              3                 Not Eligible\n",
       "48 12              5                 Eligible    \n",
       "49 14              2                 Not Eligible\n",
       "50 13              3                 Eligible    "
      ]
     },
     "metadata": {},
     "output_type": "display_data"
    }
   ],
   "source": [
    "employee_data"
   ]
  },
  {
   "cell_type": "code",
   "execution_count": 36,
   "id": "2700073e-c49f-4926-984c-eabb0a7e3bf3",
   "metadata": {},
   "outputs": [
    {
     "name": "stdout",
     "output_type": "stream",
     "text": [
      "'data.frame':\t50 obs. of  10 variables:\n",
      " $ EmployeeID       : Factor w/ 50 levels \"E1001\",\"E1002\",..: 1 2 3 4 5 6 7 8 9 10 ...\n",
      " $ Gender           : chr  \"Male\" \"Female\" \"Male\" \"Male\" ...\n",
      " $ Age              : int  31 36 25 26 34 32 34 36 40 40 ...\n",
      " $ JobPosition      : chr  \"Project Manager\" \"Project Manager\" \"Data Analyst\" \"Project Manager\" ...\n",
      " $ Salary           : num  140000 150000 170000 135000 175000 145000 135000 170000 180000 135000 ...\n",
      " $ Department       : chr  \"IT\" \"Marketing\" \"IT\" \"IT\" ...\n",
      " $ Bonus            : num  9000 10000 8000 16000 13000 19000 7000 12000 7000 20000 ...\n",
      " $ YearsExperience  : int  11 8 13 5 4 15 11 11 4 3 ...\n",
      " $ PerformanceRating: int  3 3 2 1 5 3 1 2 4 3 ...\n",
      " $ RemoteWork       : chr  \"Eligible\" \"Eligible\" \"Not Eligible\" \"Eligible\" ...\n"
     ]
    }
   ],
   "source": [
    "str(employee_data)"
   ]
  },
  {
   "cell_type": "code",
   "execution_count": 37,
   "id": "6d62e2e5-4a11-4970-af01-8bbe815f2895",
   "metadata": {},
   "outputs": [
    {
     "data": {
      "text/plain": [
       "      Age            Salary           Bonus       YearsExperience\n",
       " Min.   :25.00   Min.   :100000   Min.   : 5000   Min.   : 1     \n",
       " 1st Qu.:28.00   1st Qu.:126250   1st Qu.: 8000   1st Qu.: 4     \n",
       " Median :32.00   Median :155000   Median :12000   Median : 8     \n",
       " Mean   :32.08   Mean   :151600   Mean   :12200   Mean   : 8     \n",
       " 3rd Qu.:36.00   3rd Qu.:178750   3rd Qu.:16000   3rd Qu.:12     \n",
       " Max.   :40.00   Max.   :200000   Max.   :20000   Max.   :15     \n",
       " PerformanceRating\n",
       " Min.   :1.00     \n",
       " 1st Qu.:2.00     \n",
       " Median :3.00     \n",
       " Mean   :3.24     \n",
       " 3rd Qu.:4.00     \n",
       " Max.   :5.00     "
      ]
     },
     "metadata": {},
     "output_type": "display_data"
    }
   ],
   "source": [
    "summary(employee_data[, c(\"Age\", \"Salary\", \"Bonus\", \"YearsExperience\", \"PerformanceRating\")])"
   ]
  },
  {
   "cell_type": "code",
   "execution_count": 38,
   "id": "bdff23c9-0f7b-47c5-a56d-18c663c94fc6",
   "metadata": {},
   "outputs": [],
   "source": [
    "employee_data$TotalCompensation <- employee_data$Salary + employee_data$Bonus"
   ]
  },
  {
   "cell_type": "code",
   "execution_count": 39,
   "id": "56e0950a-a253-4e43-a192-9355fc1999ba",
   "metadata": {},
   "outputs": [
    {
     "data": {
      "text/html": [
       "<table class=\"dataframe\">\n",
       "<caption>A data.frame: 50 × 11</caption>\n",
       "<thead>\n",
       "\t<tr><th scope=col>EmployeeID</th><th scope=col>Gender</th><th scope=col>Age</th><th scope=col>JobPosition</th><th scope=col>Salary</th><th scope=col>Department</th><th scope=col>Bonus</th><th scope=col>YearsExperience</th><th scope=col>PerformanceRating</th><th scope=col>RemoteWork</th><th scope=col>TotalCompensation</th></tr>\n",
       "\t<tr><th scope=col>&lt;fct&gt;</th><th scope=col>&lt;chr&gt;</th><th scope=col>&lt;int&gt;</th><th scope=col>&lt;chr&gt;</th><th scope=col>&lt;dbl&gt;</th><th scope=col>&lt;chr&gt;</th><th scope=col>&lt;dbl&gt;</th><th scope=col>&lt;int&gt;</th><th scope=col>&lt;int&gt;</th><th scope=col>&lt;chr&gt;</th><th scope=col>&lt;dbl&gt;</th></tr>\n",
       "</thead>\n",
       "<tbody>\n",
       "\t<tr><td>E1001</td><td>Male  </td><td>31</td><td>Project Manager     </td><td>140000</td><td>IT       </td><td> 9000</td><td>11</td><td>3</td><td>Eligible    </td><td>149000</td></tr>\n",
       "\t<tr><td>E1002</td><td>Female</td><td>36</td><td>Project Manager     </td><td>150000</td><td>Marketing</td><td>10000</td><td> 8</td><td>3</td><td>Eligible    </td><td>160000</td></tr>\n",
       "\t<tr><td>E1003</td><td>Male  </td><td>25</td><td>Data Analyst        </td><td>170000</td><td>IT       </td><td> 8000</td><td>13</td><td>2</td><td>Not Eligible</td><td>178000</td></tr>\n",
       "\t<tr><td>E1004</td><td>Male  </td><td>26</td><td>Project Manager     </td><td>135000</td><td>IT       </td><td>16000</td><td> 5</td><td>1</td><td>Eligible    </td><td>151000</td></tr>\n",
       "\t<tr><td>E1005</td><td>Male  </td><td>34</td><td>Project Manager     </td><td>175000</td><td>IT       </td><td>13000</td><td> 4</td><td>5</td><td>Not Eligible</td><td>188000</td></tr>\n",
       "\t<tr><td>E1006</td><td>Male  </td><td>32</td><td>Project Manager     </td><td>145000</td><td>Finance  </td><td>19000</td><td>15</td><td>3</td><td>Not Eligible</td><td>164000</td></tr>\n",
       "\t<tr><td>E1007</td><td>Male  </td><td>34</td><td>Software Engineer   </td><td>135000</td><td>IT       </td><td> 7000</td><td>11</td><td>1</td><td>Eligible    </td><td>142000</td></tr>\n",
       "\t<tr><td>E1008</td><td>Female</td><td>36</td><td>Project Manager     </td><td>170000</td><td>Marketing</td><td>12000</td><td>11</td><td>2</td><td>Not Eligible</td><td>182000</td></tr>\n",
       "\t<tr><td>E1009</td><td>Male  </td><td>40</td><td>Data Analyst        </td><td>180000</td><td>Marketing</td><td> 7000</td><td> 4</td><td>4</td><td>Eligible    </td><td>187000</td></tr>\n",
       "\t<tr><td>E1010</td><td>Male  </td><td>40</td><td>System Administrator</td><td>135000</td><td>Finance  </td><td>20000</td><td> 3</td><td>3</td><td>Eligible    </td><td>155000</td></tr>\n",
       "\t<tr><td>E1011</td><td>Male  </td><td>36</td><td>Software Engineer   </td><td>200000</td><td>Finance  </td><td> 9000</td><td>13</td><td>2</td><td>Eligible    </td><td>209000</td></tr>\n",
       "\t<tr><td>E1012</td><td>Male  </td><td>31</td><td>Data Analyst        </td><td>115000</td><td>Marketing</td><td>20000</td><td> 8</td><td>2</td><td>Not Eligible</td><td>135000</td></tr>\n",
       "\t<tr><td>E1013</td><td>Female</td><td>38</td><td>Data Analyst        </td><td>180000</td><td>Marketing</td><td>14000</td><td> 2</td><td>4</td><td>Not Eligible</td><td>194000</td></tr>\n",
       "\t<tr><td>E1014</td><td>Female</td><td>30</td><td>System Administrator</td><td>200000</td><td>Marketing</td><td>16000</td><td> 1</td><td>2</td><td>Not Eligible</td><td>216000</td></tr>\n",
       "\t<tr><td>E1015</td><td>Male  </td><td>34</td><td>Project Manager     </td><td>120000</td><td>Marketing</td><td>20000</td><td>13</td><td>5</td><td>Not Eligible</td><td>140000</td></tr>\n",
       "\t<tr><td>E1016</td><td>Male  </td><td>30</td><td>Data Analyst        </td><td>110000</td><td>Finance  </td><td> 7000</td><td>12</td><td>3</td><td>Eligible    </td><td>117000</td></tr>\n",
       "\t<tr><td>E1017</td><td>Male  </td><td>26</td><td>System Administrator</td><td>100000</td><td>IT       </td><td>13000</td><td> 8</td><td>4</td><td>Eligible    </td><td>113000</td></tr>\n",
       "\t<tr><td>E1018</td><td>Male  </td><td>33</td><td>System Administrator</td><td>200000</td><td>Finance  </td><td>18000</td><td> 9</td><td>4</td><td>Eligible    </td><td>218000</td></tr>\n",
       "\t<tr><td>E1019</td><td>Male  </td><td>28</td><td>Project Manager     </td><td>165000</td><td>IT       </td><td>14000</td><td>15</td><td>4</td><td>Eligible    </td><td>179000</td></tr>\n",
       "\t<tr><td>E1020</td><td>Male  </td><td>28</td><td>Project Manager     </td><td>135000</td><td>Marketing</td><td>15000</td><td>13</td><td>1</td><td>Eligible    </td><td>150000</td></tr>\n",
       "\t<tr><td>E1021</td><td>Male  </td><td>30</td><td>System Administrator</td><td>135000</td><td>IT       </td><td>19000</td><td> 4</td><td>4</td><td>Not Eligible</td><td>154000</td></tr>\n",
       "\t<tr><td>E1022</td><td>Male  </td><td>33</td><td>System Administrator</td><td>160000</td><td>HR       </td><td>10000</td><td>11</td><td>3</td><td>Eligible    </td><td>170000</td></tr>\n",
       "\t<tr><td>E1023</td><td>Male  </td><td>26</td><td>System Administrator</td><td>135000</td><td>Marketing</td><td>17000</td><td> 5</td><td>5</td><td>Not Eligible</td><td>152000</td></tr>\n",
       "\t<tr><td>E1024</td><td>Male  </td><td>39</td><td>System Administrator</td><td>130000</td><td>HR       </td><td>17000</td><td> 4</td><td>2</td><td>Not Eligible</td><td>147000</td></tr>\n",
       "\t<tr><td>E1025</td><td>Male  </td><td>33</td><td>Project Manager     </td><td>180000</td><td>Marketing</td><td>11000</td><td> 1</td><td>4</td><td>Not Eligible</td><td>191000</td></tr>\n",
       "\t<tr><td>E1026</td><td>Female</td><td>25</td><td>Software Engineer   </td><td>115000</td><td>Marketing</td><td> 5000</td><td> 3</td><td>4</td><td>Eligible    </td><td>120000</td></tr>\n",
       "\t<tr><td>E1027</td><td>Male  </td><td>25</td><td>Data Analyst        </td><td>110000</td><td>IT       </td><td>19000</td><td> 6</td><td>4</td><td>Eligible    </td><td>129000</td></tr>\n",
       "\t<tr><td>E1028</td><td>Male  </td><td>29</td><td>Software Engineer   </td><td>120000</td><td>Marketing</td><td> 5000</td><td> 7</td><td>5</td><td>Eligible    </td><td>125000</td></tr>\n",
       "\t<tr><td>E1029</td><td>Female</td><td>32</td><td>System Administrator</td><td>145000</td><td>Marketing</td><td>13000</td><td>15</td><td>2</td><td>Not Eligible</td><td>158000</td></tr>\n",
       "\t<tr><td>E1030</td><td>Male  </td><td>28</td><td>System Administrator</td><td>100000</td><td>Finance  </td><td> 7000</td><td> 2</td><td>3</td><td>Eligible    </td><td>107000</td></tr>\n",
       "\t<tr><td>E1031</td><td>Male  </td><td>28</td><td>Software Engineer   </td><td>160000</td><td>Marketing</td><td> 8000</td><td> 1</td><td>5</td><td>Eligible    </td><td>168000</td></tr>\n",
       "\t<tr><td>E1032</td><td>Female</td><td>31</td><td>Project Manager     </td><td>160000</td><td>Finance  </td><td> 9000</td><td>10</td><td>3</td><td>Not Eligible</td><td>169000</td></tr>\n",
       "\t<tr><td>E1033</td><td>Male  </td><td>35</td><td>System Administrator</td><td>195000</td><td>HR       </td><td>11000</td><td> 5</td><td>2</td><td>Eligible    </td><td>206000</td></tr>\n",
       "\t<tr><td>E1034</td><td>Male  </td><td>28</td><td>System Administrator</td><td>195000</td><td>Marketing</td><td> 6000</td><td>11</td><td>3</td><td>Not Eligible</td><td>201000</td></tr>\n",
       "\t<tr><td>E1035</td><td>Male  </td><td>28</td><td>Project Manager     </td><td>125000</td><td>HR       </td><td> 8000</td><td>14</td><td>4</td><td>Not Eligible</td><td>133000</td></tr>\n",
       "\t<tr><td>E1036</td><td>Male  </td><td>33</td><td>Data Analyst        </td><td>190000</td><td>Marketing</td><td>12000</td><td> 8</td><td>4</td><td>Eligible    </td><td>202000</td></tr>\n",
       "\t<tr><td>E1037</td><td>Male  </td><td>29</td><td>Project Manager     </td><td>165000</td><td>IT       </td><td>20000</td><td> 6</td><td>5</td><td>Eligible    </td><td>185000</td></tr>\n",
       "\t<tr><td>E1038</td><td>Female</td><td>30</td><td>Data Analyst        </td><td>125000</td><td>Finance  </td><td>14000</td><td> 6</td><td>3</td><td>Not Eligible</td><td>139000</td></tr>\n",
       "\t<tr><td>E1039</td><td>Male  </td><td>40</td><td>Data Analyst        </td><td>100000</td><td>HR       </td><td>14000</td><td>15</td><td>1</td><td>Eligible    </td><td>114000</td></tr>\n",
       "\t<tr><td>E1040</td><td>Male  </td><td>37</td><td>System Administrator</td><td>160000</td><td>IT       </td><td>19000</td><td> 3</td><td>4</td><td>Eligible    </td><td>179000</td></tr>\n",
       "\t<tr><td>E1041</td><td>Male  </td><td>37</td><td>System Administrator</td><td>145000</td><td>Marketing</td><td>10000</td><td> 3</td><td>5</td><td>Eligible    </td><td>155000</td></tr>\n",
       "\t<tr><td>E1042</td><td>Male  </td><td>37</td><td>Project Manager     </td><td>175000</td><td>IT       </td><td> 5000</td><td> 6</td><td>3</td><td>Eligible    </td><td>180000</td></tr>\n",
       "\t<tr><td>E1043</td><td>Female</td><td>39</td><td>Data Analyst        </td><td>185000</td><td>IT       </td><td> 6000</td><td> 2</td><td>3</td><td>Eligible    </td><td>191000</td></tr>\n",
       "\t<tr><td>E1044</td><td>Male  </td><td>39</td><td>Project Manager     </td><td>105000</td><td>Marketing</td><td>16000</td><td>15</td><td>2</td><td>Eligible    </td><td>121000</td></tr>\n",
       "\t<tr><td>E1045</td><td>Male  </td><td>33</td><td>Project Manager     </td><td>185000</td><td>IT       </td><td> 8000</td><td>11</td><td>5</td><td>Not Eligible</td><td>193000</td></tr>\n",
       "\t<tr><td>E1046</td><td>Female</td><td>32</td><td>Data Analyst        </td><td>185000</td><td>HR       </td><td> 6000</td><td> 1</td><td>3</td><td>Eligible    </td><td>191000</td></tr>\n",
       "\t<tr><td>E1047</td><td>Male  </td><td>25</td><td>System Administrator</td><td>165000</td><td>Finance  </td><td> 8000</td><td> 7</td><td>3</td><td>Not Eligible</td><td>173000</td></tr>\n",
       "\t<tr><td>E1048</td><td>Female</td><td>39</td><td>Data Analyst        </td><td>195000</td><td>Marketing</td><td>20000</td><td>12</td><td>5</td><td>Eligible    </td><td>215000</td></tr>\n",
       "\t<tr><td>E1049</td><td>Female</td><td>31</td><td>Software Engineer   </td><td>165000</td><td>Marketing</td><td>15000</td><td>14</td><td>2</td><td>Not Eligible</td><td>180000</td></tr>\n",
       "\t<tr><td>E1050</td><td>Male  </td><td>25</td><td>Project Manager     </td><td>110000</td><td>Marketing</td><td> 5000</td><td>13</td><td>3</td><td>Eligible    </td><td>115000</td></tr>\n",
       "</tbody>\n",
       "</table>\n"
      ],
      "text/latex": [
       "A data.frame: 50 × 11\n",
       "\\begin{tabular}{lllllllllll}\n",
       " EmployeeID & Gender & Age & JobPosition & Salary & Department & Bonus & YearsExperience & PerformanceRating & RemoteWork & TotalCompensation\\\\\n",
       " <fct> & <chr> & <int> & <chr> & <dbl> & <chr> & <dbl> & <int> & <int> & <chr> & <dbl>\\\\\n",
       "\\hline\n",
       "\t E1001 & Male   & 31 & Project Manager      & 140000 & IT        &  9000 & 11 & 3 & Eligible     & 149000\\\\\n",
       "\t E1002 & Female & 36 & Project Manager      & 150000 & Marketing & 10000 &  8 & 3 & Eligible     & 160000\\\\\n",
       "\t E1003 & Male   & 25 & Data Analyst         & 170000 & IT        &  8000 & 13 & 2 & Not Eligible & 178000\\\\\n",
       "\t E1004 & Male   & 26 & Project Manager      & 135000 & IT        & 16000 &  5 & 1 & Eligible     & 151000\\\\\n",
       "\t E1005 & Male   & 34 & Project Manager      & 175000 & IT        & 13000 &  4 & 5 & Not Eligible & 188000\\\\\n",
       "\t E1006 & Male   & 32 & Project Manager      & 145000 & Finance   & 19000 & 15 & 3 & Not Eligible & 164000\\\\\n",
       "\t E1007 & Male   & 34 & Software Engineer    & 135000 & IT        &  7000 & 11 & 1 & Eligible     & 142000\\\\\n",
       "\t E1008 & Female & 36 & Project Manager      & 170000 & Marketing & 12000 & 11 & 2 & Not Eligible & 182000\\\\\n",
       "\t E1009 & Male   & 40 & Data Analyst         & 180000 & Marketing &  7000 &  4 & 4 & Eligible     & 187000\\\\\n",
       "\t E1010 & Male   & 40 & System Administrator & 135000 & Finance   & 20000 &  3 & 3 & Eligible     & 155000\\\\\n",
       "\t E1011 & Male   & 36 & Software Engineer    & 200000 & Finance   &  9000 & 13 & 2 & Eligible     & 209000\\\\\n",
       "\t E1012 & Male   & 31 & Data Analyst         & 115000 & Marketing & 20000 &  8 & 2 & Not Eligible & 135000\\\\\n",
       "\t E1013 & Female & 38 & Data Analyst         & 180000 & Marketing & 14000 &  2 & 4 & Not Eligible & 194000\\\\\n",
       "\t E1014 & Female & 30 & System Administrator & 200000 & Marketing & 16000 &  1 & 2 & Not Eligible & 216000\\\\\n",
       "\t E1015 & Male   & 34 & Project Manager      & 120000 & Marketing & 20000 & 13 & 5 & Not Eligible & 140000\\\\\n",
       "\t E1016 & Male   & 30 & Data Analyst         & 110000 & Finance   &  7000 & 12 & 3 & Eligible     & 117000\\\\\n",
       "\t E1017 & Male   & 26 & System Administrator & 100000 & IT        & 13000 &  8 & 4 & Eligible     & 113000\\\\\n",
       "\t E1018 & Male   & 33 & System Administrator & 200000 & Finance   & 18000 &  9 & 4 & Eligible     & 218000\\\\\n",
       "\t E1019 & Male   & 28 & Project Manager      & 165000 & IT        & 14000 & 15 & 4 & Eligible     & 179000\\\\\n",
       "\t E1020 & Male   & 28 & Project Manager      & 135000 & Marketing & 15000 & 13 & 1 & Eligible     & 150000\\\\\n",
       "\t E1021 & Male   & 30 & System Administrator & 135000 & IT        & 19000 &  4 & 4 & Not Eligible & 154000\\\\\n",
       "\t E1022 & Male   & 33 & System Administrator & 160000 & HR        & 10000 & 11 & 3 & Eligible     & 170000\\\\\n",
       "\t E1023 & Male   & 26 & System Administrator & 135000 & Marketing & 17000 &  5 & 5 & Not Eligible & 152000\\\\\n",
       "\t E1024 & Male   & 39 & System Administrator & 130000 & HR        & 17000 &  4 & 2 & Not Eligible & 147000\\\\\n",
       "\t E1025 & Male   & 33 & Project Manager      & 180000 & Marketing & 11000 &  1 & 4 & Not Eligible & 191000\\\\\n",
       "\t E1026 & Female & 25 & Software Engineer    & 115000 & Marketing &  5000 &  3 & 4 & Eligible     & 120000\\\\\n",
       "\t E1027 & Male   & 25 & Data Analyst         & 110000 & IT        & 19000 &  6 & 4 & Eligible     & 129000\\\\\n",
       "\t E1028 & Male   & 29 & Software Engineer    & 120000 & Marketing &  5000 &  7 & 5 & Eligible     & 125000\\\\\n",
       "\t E1029 & Female & 32 & System Administrator & 145000 & Marketing & 13000 & 15 & 2 & Not Eligible & 158000\\\\\n",
       "\t E1030 & Male   & 28 & System Administrator & 100000 & Finance   &  7000 &  2 & 3 & Eligible     & 107000\\\\\n",
       "\t E1031 & Male   & 28 & Software Engineer    & 160000 & Marketing &  8000 &  1 & 5 & Eligible     & 168000\\\\\n",
       "\t E1032 & Female & 31 & Project Manager      & 160000 & Finance   &  9000 & 10 & 3 & Not Eligible & 169000\\\\\n",
       "\t E1033 & Male   & 35 & System Administrator & 195000 & HR        & 11000 &  5 & 2 & Eligible     & 206000\\\\\n",
       "\t E1034 & Male   & 28 & System Administrator & 195000 & Marketing &  6000 & 11 & 3 & Not Eligible & 201000\\\\\n",
       "\t E1035 & Male   & 28 & Project Manager      & 125000 & HR        &  8000 & 14 & 4 & Not Eligible & 133000\\\\\n",
       "\t E1036 & Male   & 33 & Data Analyst         & 190000 & Marketing & 12000 &  8 & 4 & Eligible     & 202000\\\\\n",
       "\t E1037 & Male   & 29 & Project Manager      & 165000 & IT        & 20000 &  6 & 5 & Eligible     & 185000\\\\\n",
       "\t E1038 & Female & 30 & Data Analyst         & 125000 & Finance   & 14000 &  6 & 3 & Not Eligible & 139000\\\\\n",
       "\t E1039 & Male   & 40 & Data Analyst         & 100000 & HR        & 14000 & 15 & 1 & Eligible     & 114000\\\\\n",
       "\t E1040 & Male   & 37 & System Administrator & 160000 & IT        & 19000 &  3 & 4 & Eligible     & 179000\\\\\n",
       "\t E1041 & Male   & 37 & System Administrator & 145000 & Marketing & 10000 &  3 & 5 & Eligible     & 155000\\\\\n",
       "\t E1042 & Male   & 37 & Project Manager      & 175000 & IT        &  5000 &  6 & 3 & Eligible     & 180000\\\\\n",
       "\t E1043 & Female & 39 & Data Analyst         & 185000 & IT        &  6000 &  2 & 3 & Eligible     & 191000\\\\\n",
       "\t E1044 & Male   & 39 & Project Manager      & 105000 & Marketing & 16000 & 15 & 2 & Eligible     & 121000\\\\\n",
       "\t E1045 & Male   & 33 & Project Manager      & 185000 & IT        &  8000 & 11 & 5 & Not Eligible & 193000\\\\\n",
       "\t E1046 & Female & 32 & Data Analyst         & 185000 & HR        &  6000 &  1 & 3 & Eligible     & 191000\\\\\n",
       "\t E1047 & Male   & 25 & System Administrator & 165000 & Finance   &  8000 &  7 & 3 & Not Eligible & 173000\\\\\n",
       "\t E1048 & Female & 39 & Data Analyst         & 195000 & Marketing & 20000 & 12 & 5 & Eligible     & 215000\\\\\n",
       "\t E1049 & Female & 31 & Software Engineer    & 165000 & Marketing & 15000 & 14 & 2 & Not Eligible & 180000\\\\\n",
       "\t E1050 & Male   & 25 & Project Manager      & 110000 & Marketing &  5000 & 13 & 3 & Eligible     & 115000\\\\\n",
       "\\end{tabular}\n"
      ],
      "text/markdown": [
       "\n",
       "A data.frame: 50 × 11\n",
       "\n",
       "| EmployeeID &lt;fct&gt; | Gender &lt;chr&gt; | Age &lt;int&gt; | JobPosition &lt;chr&gt; | Salary &lt;dbl&gt; | Department &lt;chr&gt; | Bonus &lt;dbl&gt; | YearsExperience &lt;int&gt; | PerformanceRating &lt;int&gt; | RemoteWork &lt;chr&gt; | TotalCompensation &lt;dbl&gt; |\n",
       "|---|---|---|---|---|---|---|---|---|---|---|\n",
       "| E1001 | Male   | 31 | Project Manager      | 140000 | IT        |  9000 | 11 | 3 | Eligible     | 149000 |\n",
       "| E1002 | Female | 36 | Project Manager      | 150000 | Marketing | 10000 |  8 | 3 | Eligible     | 160000 |\n",
       "| E1003 | Male   | 25 | Data Analyst         | 170000 | IT        |  8000 | 13 | 2 | Not Eligible | 178000 |\n",
       "| E1004 | Male   | 26 | Project Manager      | 135000 | IT        | 16000 |  5 | 1 | Eligible     | 151000 |\n",
       "| E1005 | Male   | 34 | Project Manager      | 175000 | IT        | 13000 |  4 | 5 | Not Eligible | 188000 |\n",
       "| E1006 | Male   | 32 | Project Manager      | 145000 | Finance   | 19000 | 15 | 3 | Not Eligible | 164000 |\n",
       "| E1007 | Male   | 34 | Software Engineer    | 135000 | IT        |  7000 | 11 | 1 | Eligible     | 142000 |\n",
       "| E1008 | Female | 36 | Project Manager      | 170000 | Marketing | 12000 | 11 | 2 | Not Eligible | 182000 |\n",
       "| E1009 | Male   | 40 | Data Analyst         | 180000 | Marketing |  7000 |  4 | 4 | Eligible     | 187000 |\n",
       "| E1010 | Male   | 40 | System Administrator | 135000 | Finance   | 20000 |  3 | 3 | Eligible     | 155000 |\n",
       "| E1011 | Male   | 36 | Software Engineer    | 200000 | Finance   |  9000 | 13 | 2 | Eligible     | 209000 |\n",
       "| E1012 | Male   | 31 | Data Analyst         | 115000 | Marketing | 20000 |  8 | 2 | Not Eligible | 135000 |\n",
       "| E1013 | Female | 38 | Data Analyst         | 180000 | Marketing | 14000 |  2 | 4 | Not Eligible | 194000 |\n",
       "| E1014 | Female | 30 | System Administrator | 200000 | Marketing | 16000 |  1 | 2 | Not Eligible | 216000 |\n",
       "| E1015 | Male   | 34 | Project Manager      | 120000 | Marketing | 20000 | 13 | 5 | Not Eligible | 140000 |\n",
       "| E1016 | Male   | 30 | Data Analyst         | 110000 | Finance   |  7000 | 12 | 3 | Eligible     | 117000 |\n",
       "| E1017 | Male   | 26 | System Administrator | 100000 | IT        | 13000 |  8 | 4 | Eligible     | 113000 |\n",
       "| E1018 | Male   | 33 | System Administrator | 200000 | Finance   | 18000 |  9 | 4 | Eligible     | 218000 |\n",
       "| E1019 | Male   | 28 | Project Manager      | 165000 | IT        | 14000 | 15 | 4 | Eligible     | 179000 |\n",
       "| E1020 | Male   | 28 | Project Manager      | 135000 | Marketing | 15000 | 13 | 1 | Eligible     | 150000 |\n",
       "| E1021 | Male   | 30 | System Administrator | 135000 | IT        | 19000 |  4 | 4 | Not Eligible | 154000 |\n",
       "| E1022 | Male   | 33 | System Administrator | 160000 | HR        | 10000 | 11 | 3 | Eligible     | 170000 |\n",
       "| E1023 | Male   | 26 | System Administrator | 135000 | Marketing | 17000 |  5 | 5 | Not Eligible | 152000 |\n",
       "| E1024 | Male   | 39 | System Administrator | 130000 | HR        | 17000 |  4 | 2 | Not Eligible | 147000 |\n",
       "| E1025 | Male   | 33 | Project Manager      | 180000 | Marketing | 11000 |  1 | 4 | Not Eligible | 191000 |\n",
       "| E1026 | Female | 25 | Software Engineer    | 115000 | Marketing |  5000 |  3 | 4 | Eligible     | 120000 |\n",
       "| E1027 | Male   | 25 | Data Analyst         | 110000 | IT        | 19000 |  6 | 4 | Eligible     | 129000 |\n",
       "| E1028 | Male   | 29 | Software Engineer    | 120000 | Marketing |  5000 |  7 | 5 | Eligible     | 125000 |\n",
       "| E1029 | Female | 32 | System Administrator | 145000 | Marketing | 13000 | 15 | 2 | Not Eligible | 158000 |\n",
       "| E1030 | Male   | 28 | System Administrator | 100000 | Finance   |  7000 |  2 | 3 | Eligible     | 107000 |\n",
       "| E1031 | Male   | 28 | Software Engineer    | 160000 | Marketing |  8000 |  1 | 5 | Eligible     | 168000 |\n",
       "| E1032 | Female | 31 | Project Manager      | 160000 | Finance   |  9000 | 10 | 3 | Not Eligible | 169000 |\n",
       "| E1033 | Male   | 35 | System Administrator | 195000 | HR        | 11000 |  5 | 2 | Eligible     | 206000 |\n",
       "| E1034 | Male   | 28 | System Administrator | 195000 | Marketing |  6000 | 11 | 3 | Not Eligible | 201000 |\n",
       "| E1035 | Male   | 28 | Project Manager      | 125000 | HR        |  8000 | 14 | 4 | Not Eligible | 133000 |\n",
       "| E1036 | Male   | 33 | Data Analyst         | 190000 | Marketing | 12000 |  8 | 4 | Eligible     | 202000 |\n",
       "| E1037 | Male   | 29 | Project Manager      | 165000 | IT        | 20000 |  6 | 5 | Eligible     | 185000 |\n",
       "| E1038 | Female | 30 | Data Analyst         | 125000 | Finance   | 14000 |  6 | 3 | Not Eligible | 139000 |\n",
       "| E1039 | Male   | 40 | Data Analyst         | 100000 | HR        | 14000 | 15 | 1 | Eligible     | 114000 |\n",
       "| E1040 | Male   | 37 | System Administrator | 160000 | IT        | 19000 |  3 | 4 | Eligible     | 179000 |\n",
       "| E1041 | Male   | 37 | System Administrator | 145000 | Marketing | 10000 |  3 | 5 | Eligible     | 155000 |\n",
       "| E1042 | Male   | 37 | Project Manager      | 175000 | IT        |  5000 |  6 | 3 | Eligible     | 180000 |\n",
       "| E1043 | Female | 39 | Data Analyst         | 185000 | IT        |  6000 |  2 | 3 | Eligible     | 191000 |\n",
       "| E1044 | Male   | 39 | Project Manager      | 105000 | Marketing | 16000 | 15 | 2 | Eligible     | 121000 |\n",
       "| E1045 | Male   | 33 | Project Manager      | 185000 | IT        |  8000 | 11 | 5 | Not Eligible | 193000 |\n",
       "| E1046 | Female | 32 | Data Analyst         | 185000 | HR        |  6000 |  1 | 3 | Eligible     | 191000 |\n",
       "| E1047 | Male   | 25 | System Administrator | 165000 | Finance   |  8000 |  7 | 3 | Not Eligible | 173000 |\n",
       "| E1048 | Female | 39 | Data Analyst         | 195000 | Marketing | 20000 | 12 | 5 | Eligible     | 215000 |\n",
       "| E1049 | Female | 31 | Software Engineer    | 165000 | Marketing | 15000 | 14 | 2 | Not Eligible | 180000 |\n",
       "| E1050 | Male   | 25 | Project Manager      | 110000 | Marketing |  5000 | 13 | 3 | Eligible     | 115000 |\n",
       "\n"
      ],
      "text/plain": [
       "   EmployeeID Gender Age JobPosition          Salary Department Bonus\n",
       "1  E1001      Male   31  Project Manager      140000 IT          9000\n",
       "2  E1002      Female 36  Project Manager      150000 Marketing  10000\n",
       "3  E1003      Male   25  Data Analyst         170000 IT          8000\n",
       "4  E1004      Male   26  Project Manager      135000 IT         16000\n",
       "5  E1005      Male   34  Project Manager      175000 IT         13000\n",
       "6  E1006      Male   32  Project Manager      145000 Finance    19000\n",
       "7  E1007      Male   34  Software Engineer    135000 IT          7000\n",
       "8  E1008      Female 36  Project Manager      170000 Marketing  12000\n",
       "9  E1009      Male   40  Data Analyst         180000 Marketing   7000\n",
       "10 E1010      Male   40  System Administrator 135000 Finance    20000\n",
       "11 E1011      Male   36  Software Engineer    200000 Finance     9000\n",
       "12 E1012      Male   31  Data Analyst         115000 Marketing  20000\n",
       "13 E1013      Female 38  Data Analyst         180000 Marketing  14000\n",
       "14 E1014      Female 30  System Administrator 200000 Marketing  16000\n",
       "15 E1015      Male   34  Project Manager      120000 Marketing  20000\n",
       "16 E1016      Male   30  Data Analyst         110000 Finance     7000\n",
       "17 E1017      Male   26  System Administrator 100000 IT         13000\n",
       "18 E1018      Male   33  System Administrator 200000 Finance    18000\n",
       "19 E1019      Male   28  Project Manager      165000 IT         14000\n",
       "20 E1020      Male   28  Project Manager      135000 Marketing  15000\n",
       "21 E1021      Male   30  System Administrator 135000 IT         19000\n",
       "22 E1022      Male   33  System Administrator 160000 HR         10000\n",
       "23 E1023      Male   26  System Administrator 135000 Marketing  17000\n",
       "24 E1024      Male   39  System Administrator 130000 HR         17000\n",
       "25 E1025      Male   33  Project Manager      180000 Marketing  11000\n",
       "26 E1026      Female 25  Software Engineer    115000 Marketing   5000\n",
       "27 E1027      Male   25  Data Analyst         110000 IT         19000\n",
       "28 E1028      Male   29  Software Engineer    120000 Marketing   5000\n",
       "29 E1029      Female 32  System Administrator 145000 Marketing  13000\n",
       "30 E1030      Male   28  System Administrator 100000 Finance     7000\n",
       "31 E1031      Male   28  Software Engineer    160000 Marketing   8000\n",
       "32 E1032      Female 31  Project Manager      160000 Finance     9000\n",
       "33 E1033      Male   35  System Administrator 195000 HR         11000\n",
       "34 E1034      Male   28  System Administrator 195000 Marketing   6000\n",
       "35 E1035      Male   28  Project Manager      125000 HR          8000\n",
       "36 E1036      Male   33  Data Analyst         190000 Marketing  12000\n",
       "37 E1037      Male   29  Project Manager      165000 IT         20000\n",
       "38 E1038      Female 30  Data Analyst         125000 Finance    14000\n",
       "39 E1039      Male   40  Data Analyst         100000 HR         14000\n",
       "40 E1040      Male   37  System Administrator 160000 IT         19000\n",
       "41 E1041      Male   37  System Administrator 145000 Marketing  10000\n",
       "42 E1042      Male   37  Project Manager      175000 IT          5000\n",
       "43 E1043      Female 39  Data Analyst         185000 IT          6000\n",
       "44 E1044      Male   39  Project Manager      105000 Marketing  16000\n",
       "45 E1045      Male   33  Project Manager      185000 IT          8000\n",
       "46 E1046      Female 32  Data Analyst         185000 HR          6000\n",
       "47 E1047      Male   25  System Administrator 165000 Finance     8000\n",
       "48 E1048      Female 39  Data Analyst         195000 Marketing  20000\n",
       "49 E1049      Female 31  Software Engineer    165000 Marketing  15000\n",
       "50 E1050      Male   25  Project Manager      110000 Marketing   5000\n",
       "   YearsExperience PerformanceRating RemoteWork   TotalCompensation\n",
       "1  11              3                 Eligible     149000           \n",
       "2   8              3                 Eligible     160000           \n",
       "3  13              2                 Not Eligible 178000           \n",
       "4   5              1                 Eligible     151000           \n",
       "5   4              5                 Not Eligible 188000           \n",
       "6  15              3                 Not Eligible 164000           \n",
       "7  11              1                 Eligible     142000           \n",
       "8  11              2                 Not Eligible 182000           \n",
       "9   4              4                 Eligible     187000           \n",
       "10  3              3                 Eligible     155000           \n",
       "11 13              2                 Eligible     209000           \n",
       "12  8              2                 Not Eligible 135000           \n",
       "13  2              4                 Not Eligible 194000           \n",
       "14  1              2                 Not Eligible 216000           \n",
       "15 13              5                 Not Eligible 140000           \n",
       "16 12              3                 Eligible     117000           \n",
       "17  8              4                 Eligible     113000           \n",
       "18  9              4                 Eligible     218000           \n",
       "19 15              4                 Eligible     179000           \n",
       "20 13              1                 Eligible     150000           \n",
       "21  4              4                 Not Eligible 154000           \n",
       "22 11              3                 Eligible     170000           \n",
       "23  5              5                 Not Eligible 152000           \n",
       "24  4              2                 Not Eligible 147000           \n",
       "25  1              4                 Not Eligible 191000           \n",
       "26  3              4                 Eligible     120000           \n",
       "27  6              4                 Eligible     129000           \n",
       "28  7              5                 Eligible     125000           \n",
       "29 15              2                 Not Eligible 158000           \n",
       "30  2              3                 Eligible     107000           \n",
       "31  1              5                 Eligible     168000           \n",
       "32 10              3                 Not Eligible 169000           \n",
       "33  5              2                 Eligible     206000           \n",
       "34 11              3                 Not Eligible 201000           \n",
       "35 14              4                 Not Eligible 133000           \n",
       "36  8              4                 Eligible     202000           \n",
       "37  6              5                 Eligible     185000           \n",
       "38  6              3                 Not Eligible 139000           \n",
       "39 15              1                 Eligible     114000           \n",
       "40  3              4                 Eligible     179000           \n",
       "41  3              5                 Eligible     155000           \n",
       "42  6              3                 Eligible     180000           \n",
       "43  2              3                 Eligible     191000           \n",
       "44 15              2                 Eligible     121000           \n",
       "45 11              5                 Not Eligible 193000           \n",
       "46  1              3                 Eligible     191000           \n",
       "47  7              3                 Not Eligible 173000           \n",
       "48 12              5                 Eligible     215000           \n",
       "49 14              2                 Not Eligible 180000           \n",
       "50 13              3                 Eligible     115000           "
      ]
     },
     "metadata": {},
     "output_type": "display_data"
    }
   ],
   "source": [
    "employee_data"
   ]
  },
  {
   "cell_type": "code",
   "execution_count": 40,
   "id": "9ad13a20-831a-417e-afa9-4529f80a670b",
   "metadata": {},
   "outputs": [],
   "source": [
    "it_remote_employees <- subset(employee_data, Department == \"IT\" & RemoteWork == \"Eligible\")"
   ]
  },
  {
   "cell_type": "code",
   "execution_count": 41,
   "id": "2adc6838-fe3a-43a5-9976-a514ceca1e70",
   "metadata": {},
   "outputs": [
    {
     "data": {
      "text/html": [
       "<table class=\"dataframe\">\n",
       "<caption>A data.frame: 10 × 11</caption>\n",
       "<thead>\n",
       "\t<tr><th></th><th scope=col>EmployeeID</th><th scope=col>Gender</th><th scope=col>Age</th><th scope=col>JobPosition</th><th scope=col>Salary</th><th scope=col>Department</th><th scope=col>Bonus</th><th scope=col>YearsExperience</th><th scope=col>PerformanceRating</th><th scope=col>RemoteWork</th><th scope=col>TotalCompensation</th></tr>\n",
       "\t<tr><th></th><th scope=col>&lt;fct&gt;</th><th scope=col>&lt;chr&gt;</th><th scope=col>&lt;int&gt;</th><th scope=col>&lt;chr&gt;</th><th scope=col>&lt;dbl&gt;</th><th scope=col>&lt;chr&gt;</th><th scope=col>&lt;dbl&gt;</th><th scope=col>&lt;int&gt;</th><th scope=col>&lt;int&gt;</th><th scope=col>&lt;chr&gt;</th><th scope=col>&lt;dbl&gt;</th></tr>\n",
       "</thead>\n",
       "<tbody>\n",
       "\t<tr><th scope=row>1</th><td>E1001</td><td>Male  </td><td>31</td><td>Project Manager     </td><td>140000</td><td>IT</td><td> 9000</td><td>11</td><td>3</td><td>Eligible</td><td>149000</td></tr>\n",
       "\t<tr><th scope=row>4</th><td>E1004</td><td>Male  </td><td>26</td><td>Project Manager     </td><td>135000</td><td>IT</td><td>16000</td><td> 5</td><td>1</td><td>Eligible</td><td>151000</td></tr>\n",
       "\t<tr><th scope=row>7</th><td>E1007</td><td>Male  </td><td>34</td><td>Software Engineer   </td><td>135000</td><td>IT</td><td> 7000</td><td>11</td><td>1</td><td>Eligible</td><td>142000</td></tr>\n",
       "\t<tr><th scope=row>17</th><td>E1017</td><td>Male  </td><td>26</td><td>System Administrator</td><td>100000</td><td>IT</td><td>13000</td><td> 8</td><td>4</td><td>Eligible</td><td>113000</td></tr>\n",
       "\t<tr><th scope=row>19</th><td>E1019</td><td>Male  </td><td>28</td><td>Project Manager     </td><td>165000</td><td>IT</td><td>14000</td><td>15</td><td>4</td><td>Eligible</td><td>179000</td></tr>\n",
       "\t<tr><th scope=row>27</th><td>E1027</td><td>Male  </td><td>25</td><td>Data Analyst        </td><td>110000</td><td>IT</td><td>19000</td><td> 6</td><td>4</td><td>Eligible</td><td>129000</td></tr>\n",
       "\t<tr><th scope=row>37</th><td>E1037</td><td>Male  </td><td>29</td><td>Project Manager     </td><td>165000</td><td>IT</td><td>20000</td><td> 6</td><td>5</td><td>Eligible</td><td>185000</td></tr>\n",
       "\t<tr><th scope=row>40</th><td>E1040</td><td>Male  </td><td>37</td><td>System Administrator</td><td>160000</td><td>IT</td><td>19000</td><td> 3</td><td>4</td><td>Eligible</td><td>179000</td></tr>\n",
       "\t<tr><th scope=row>42</th><td>E1042</td><td>Male  </td><td>37</td><td>Project Manager     </td><td>175000</td><td>IT</td><td> 5000</td><td> 6</td><td>3</td><td>Eligible</td><td>180000</td></tr>\n",
       "\t<tr><th scope=row>43</th><td>E1043</td><td>Female</td><td>39</td><td>Data Analyst        </td><td>185000</td><td>IT</td><td> 6000</td><td> 2</td><td>3</td><td>Eligible</td><td>191000</td></tr>\n",
       "</tbody>\n",
       "</table>\n"
      ],
      "text/latex": [
       "A data.frame: 10 × 11\n",
       "\\begin{tabular}{r|lllllllllll}\n",
       "  & EmployeeID & Gender & Age & JobPosition & Salary & Department & Bonus & YearsExperience & PerformanceRating & RemoteWork & TotalCompensation\\\\\n",
       "  & <fct> & <chr> & <int> & <chr> & <dbl> & <chr> & <dbl> & <int> & <int> & <chr> & <dbl>\\\\\n",
       "\\hline\n",
       "\t1 & E1001 & Male   & 31 & Project Manager      & 140000 & IT &  9000 & 11 & 3 & Eligible & 149000\\\\\n",
       "\t4 & E1004 & Male   & 26 & Project Manager      & 135000 & IT & 16000 &  5 & 1 & Eligible & 151000\\\\\n",
       "\t7 & E1007 & Male   & 34 & Software Engineer    & 135000 & IT &  7000 & 11 & 1 & Eligible & 142000\\\\\n",
       "\t17 & E1017 & Male   & 26 & System Administrator & 100000 & IT & 13000 &  8 & 4 & Eligible & 113000\\\\\n",
       "\t19 & E1019 & Male   & 28 & Project Manager      & 165000 & IT & 14000 & 15 & 4 & Eligible & 179000\\\\\n",
       "\t27 & E1027 & Male   & 25 & Data Analyst         & 110000 & IT & 19000 &  6 & 4 & Eligible & 129000\\\\\n",
       "\t37 & E1037 & Male   & 29 & Project Manager      & 165000 & IT & 20000 &  6 & 5 & Eligible & 185000\\\\\n",
       "\t40 & E1040 & Male   & 37 & System Administrator & 160000 & IT & 19000 &  3 & 4 & Eligible & 179000\\\\\n",
       "\t42 & E1042 & Male   & 37 & Project Manager      & 175000 & IT &  5000 &  6 & 3 & Eligible & 180000\\\\\n",
       "\t43 & E1043 & Female & 39 & Data Analyst         & 185000 & IT &  6000 &  2 & 3 & Eligible & 191000\\\\\n",
       "\\end{tabular}\n"
      ],
      "text/markdown": [
       "\n",
       "A data.frame: 10 × 11\n",
       "\n",
       "| <!--/--> | EmployeeID &lt;fct&gt; | Gender &lt;chr&gt; | Age &lt;int&gt; | JobPosition &lt;chr&gt; | Salary &lt;dbl&gt; | Department &lt;chr&gt; | Bonus &lt;dbl&gt; | YearsExperience &lt;int&gt; | PerformanceRating &lt;int&gt; | RemoteWork &lt;chr&gt; | TotalCompensation &lt;dbl&gt; |\n",
       "|---|---|---|---|---|---|---|---|---|---|---|---|\n",
       "| 1 | E1001 | Male   | 31 | Project Manager      | 140000 | IT |  9000 | 11 | 3 | Eligible | 149000 |\n",
       "| 4 | E1004 | Male   | 26 | Project Manager      | 135000 | IT | 16000 |  5 | 1 | Eligible | 151000 |\n",
       "| 7 | E1007 | Male   | 34 | Software Engineer    | 135000 | IT |  7000 | 11 | 1 | Eligible | 142000 |\n",
       "| 17 | E1017 | Male   | 26 | System Administrator | 100000 | IT | 13000 |  8 | 4 | Eligible | 113000 |\n",
       "| 19 | E1019 | Male   | 28 | Project Manager      | 165000 | IT | 14000 | 15 | 4 | Eligible | 179000 |\n",
       "| 27 | E1027 | Male   | 25 | Data Analyst         | 110000 | IT | 19000 |  6 | 4 | Eligible | 129000 |\n",
       "| 37 | E1037 | Male   | 29 | Project Manager      | 165000 | IT | 20000 |  6 | 5 | Eligible | 185000 |\n",
       "| 40 | E1040 | Male   | 37 | System Administrator | 160000 | IT | 19000 |  3 | 4 | Eligible | 179000 |\n",
       "| 42 | E1042 | Male   | 37 | Project Manager      | 175000 | IT |  5000 |  6 | 3 | Eligible | 180000 |\n",
       "| 43 | E1043 | Female | 39 | Data Analyst         | 185000 | IT |  6000 |  2 | 3 | Eligible | 191000 |\n",
       "\n"
      ],
      "text/plain": [
       "   EmployeeID Gender Age JobPosition          Salary Department Bonus\n",
       "1  E1001      Male   31  Project Manager      140000 IT          9000\n",
       "4  E1004      Male   26  Project Manager      135000 IT         16000\n",
       "7  E1007      Male   34  Software Engineer    135000 IT          7000\n",
       "17 E1017      Male   26  System Administrator 100000 IT         13000\n",
       "19 E1019      Male   28  Project Manager      165000 IT         14000\n",
       "27 E1027      Male   25  Data Analyst         110000 IT         19000\n",
       "37 E1037      Male   29  Project Manager      165000 IT         20000\n",
       "40 E1040      Male   37  System Administrator 160000 IT         19000\n",
       "42 E1042      Male   37  Project Manager      175000 IT          5000\n",
       "43 E1043      Female 39  Data Analyst         185000 IT          6000\n",
       "   YearsExperience PerformanceRating RemoteWork TotalCompensation\n",
       "1  11              3                 Eligible   149000           \n",
       "4   5              1                 Eligible   151000           \n",
       "7  11              1                 Eligible   142000           \n",
       "17  8              4                 Eligible   113000           \n",
       "19 15              4                 Eligible   179000           \n",
       "27  6              4                 Eligible   129000           \n",
       "37  6              5                 Eligible   185000           \n",
       "40  3              4                 Eligible   179000           \n",
       "42  6              3                 Eligible   180000           \n",
       "43  2              3                 Eligible   191000           "
      ]
     },
     "metadata": {},
     "output_type": "display_data"
    }
   ],
   "source": [
    "it_remote_employees"
   ]
  },
  {
   "cell_type": "markdown",
   "id": "7b05c51d-ba88-4aba-8fb2-0b2030396a48",
   "metadata": {},
   "source": [
    "### Create another subset containing only those employees with a Performance Rating of 4 or higher."
   ]
  },
  {
   "cell_type": "code",
   "execution_count": 43,
   "id": "5aede842-efa2-40e6-a43c-f41418063ae4",
   "metadata": {},
   "outputs": [],
   "source": [
    "high_performance_employees <- subset(employee_data, PerformanceRating >= 4)"
   ]
  },
  {
   "cell_type": "code",
   "execution_count": 44,
   "id": "f98fc920-518a-4152-bcb3-d855a25e481e",
   "metadata": {},
   "outputs": [
    {
     "data": {
      "text/html": [
       "<table class=\"dataframe\">\n",
       "<caption>A data.frame: 21 × 11</caption>\n",
       "<thead>\n",
       "\t<tr><th></th><th scope=col>EmployeeID</th><th scope=col>Gender</th><th scope=col>Age</th><th scope=col>JobPosition</th><th scope=col>Salary</th><th scope=col>Department</th><th scope=col>Bonus</th><th scope=col>YearsExperience</th><th scope=col>PerformanceRating</th><th scope=col>RemoteWork</th><th scope=col>TotalCompensation</th></tr>\n",
       "\t<tr><th></th><th scope=col>&lt;fct&gt;</th><th scope=col>&lt;chr&gt;</th><th scope=col>&lt;int&gt;</th><th scope=col>&lt;chr&gt;</th><th scope=col>&lt;dbl&gt;</th><th scope=col>&lt;chr&gt;</th><th scope=col>&lt;dbl&gt;</th><th scope=col>&lt;int&gt;</th><th scope=col>&lt;int&gt;</th><th scope=col>&lt;chr&gt;</th><th scope=col>&lt;dbl&gt;</th></tr>\n",
       "</thead>\n",
       "<tbody>\n",
       "\t<tr><th scope=row>5</th><td>E1005</td><td>Male  </td><td>34</td><td>Project Manager     </td><td>175000</td><td>IT       </td><td>13000</td><td> 4</td><td>5</td><td>Not Eligible</td><td>188000</td></tr>\n",
       "\t<tr><th scope=row>9</th><td>E1009</td><td>Male  </td><td>40</td><td>Data Analyst        </td><td>180000</td><td>Marketing</td><td> 7000</td><td> 4</td><td>4</td><td>Eligible    </td><td>187000</td></tr>\n",
       "\t<tr><th scope=row>13</th><td>E1013</td><td>Female</td><td>38</td><td>Data Analyst        </td><td>180000</td><td>Marketing</td><td>14000</td><td> 2</td><td>4</td><td>Not Eligible</td><td>194000</td></tr>\n",
       "\t<tr><th scope=row>15</th><td>E1015</td><td>Male  </td><td>34</td><td>Project Manager     </td><td>120000</td><td>Marketing</td><td>20000</td><td>13</td><td>5</td><td>Not Eligible</td><td>140000</td></tr>\n",
       "\t<tr><th scope=row>17</th><td>E1017</td><td>Male  </td><td>26</td><td>System Administrator</td><td>100000</td><td>IT       </td><td>13000</td><td> 8</td><td>4</td><td>Eligible    </td><td>113000</td></tr>\n",
       "\t<tr><th scope=row>18</th><td>E1018</td><td>Male  </td><td>33</td><td>System Administrator</td><td>200000</td><td>Finance  </td><td>18000</td><td> 9</td><td>4</td><td>Eligible    </td><td>218000</td></tr>\n",
       "\t<tr><th scope=row>19</th><td>E1019</td><td>Male  </td><td>28</td><td>Project Manager     </td><td>165000</td><td>IT       </td><td>14000</td><td>15</td><td>4</td><td>Eligible    </td><td>179000</td></tr>\n",
       "\t<tr><th scope=row>21</th><td>E1021</td><td>Male  </td><td>30</td><td>System Administrator</td><td>135000</td><td>IT       </td><td>19000</td><td> 4</td><td>4</td><td>Not Eligible</td><td>154000</td></tr>\n",
       "\t<tr><th scope=row>23</th><td>E1023</td><td>Male  </td><td>26</td><td>System Administrator</td><td>135000</td><td>Marketing</td><td>17000</td><td> 5</td><td>5</td><td>Not Eligible</td><td>152000</td></tr>\n",
       "\t<tr><th scope=row>25</th><td>E1025</td><td>Male  </td><td>33</td><td>Project Manager     </td><td>180000</td><td>Marketing</td><td>11000</td><td> 1</td><td>4</td><td>Not Eligible</td><td>191000</td></tr>\n",
       "\t<tr><th scope=row>26</th><td>E1026</td><td>Female</td><td>25</td><td>Software Engineer   </td><td>115000</td><td>Marketing</td><td> 5000</td><td> 3</td><td>4</td><td>Eligible    </td><td>120000</td></tr>\n",
       "\t<tr><th scope=row>27</th><td>E1027</td><td>Male  </td><td>25</td><td>Data Analyst        </td><td>110000</td><td>IT       </td><td>19000</td><td> 6</td><td>4</td><td>Eligible    </td><td>129000</td></tr>\n",
       "\t<tr><th scope=row>28</th><td>E1028</td><td>Male  </td><td>29</td><td>Software Engineer   </td><td>120000</td><td>Marketing</td><td> 5000</td><td> 7</td><td>5</td><td>Eligible    </td><td>125000</td></tr>\n",
       "\t<tr><th scope=row>31</th><td>E1031</td><td>Male  </td><td>28</td><td>Software Engineer   </td><td>160000</td><td>Marketing</td><td> 8000</td><td> 1</td><td>5</td><td>Eligible    </td><td>168000</td></tr>\n",
       "\t<tr><th scope=row>35</th><td>E1035</td><td>Male  </td><td>28</td><td>Project Manager     </td><td>125000</td><td>HR       </td><td> 8000</td><td>14</td><td>4</td><td>Not Eligible</td><td>133000</td></tr>\n",
       "\t<tr><th scope=row>36</th><td>E1036</td><td>Male  </td><td>33</td><td>Data Analyst        </td><td>190000</td><td>Marketing</td><td>12000</td><td> 8</td><td>4</td><td>Eligible    </td><td>202000</td></tr>\n",
       "\t<tr><th scope=row>37</th><td>E1037</td><td>Male  </td><td>29</td><td>Project Manager     </td><td>165000</td><td>IT       </td><td>20000</td><td> 6</td><td>5</td><td>Eligible    </td><td>185000</td></tr>\n",
       "\t<tr><th scope=row>40</th><td>E1040</td><td>Male  </td><td>37</td><td>System Administrator</td><td>160000</td><td>IT       </td><td>19000</td><td> 3</td><td>4</td><td>Eligible    </td><td>179000</td></tr>\n",
       "\t<tr><th scope=row>41</th><td>E1041</td><td>Male  </td><td>37</td><td>System Administrator</td><td>145000</td><td>Marketing</td><td>10000</td><td> 3</td><td>5</td><td>Eligible    </td><td>155000</td></tr>\n",
       "\t<tr><th scope=row>45</th><td>E1045</td><td>Male  </td><td>33</td><td>Project Manager     </td><td>185000</td><td>IT       </td><td> 8000</td><td>11</td><td>5</td><td>Not Eligible</td><td>193000</td></tr>\n",
       "\t<tr><th scope=row>48</th><td>E1048</td><td>Female</td><td>39</td><td>Data Analyst        </td><td>195000</td><td>Marketing</td><td>20000</td><td>12</td><td>5</td><td>Eligible    </td><td>215000</td></tr>\n",
       "</tbody>\n",
       "</table>\n"
      ],
      "text/latex": [
       "A data.frame: 21 × 11\n",
       "\\begin{tabular}{r|lllllllllll}\n",
       "  & EmployeeID & Gender & Age & JobPosition & Salary & Department & Bonus & YearsExperience & PerformanceRating & RemoteWork & TotalCompensation\\\\\n",
       "  & <fct> & <chr> & <int> & <chr> & <dbl> & <chr> & <dbl> & <int> & <int> & <chr> & <dbl>\\\\\n",
       "\\hline\n",
       "\t5 & E1005 & Male   & 34 & Project Manager      & 175000 & IT        & 13000 &  4 & 5 & Not Eligible & 188000\\\\\n",
       "\t9 & E1009 & Male   & 40 & Data Analyst         & 180000 & Marketing &  7000 &  4 & 4 & Eligible     & 187000\\\\\n",
       "\t13 & E1013 & Female & 38 & Data Analyst         & 180000 & Marketing & 14000 &  2 & 4 & Not Eligible & 194000\\\\\n",
       "\t15 & E1015 & Male   & 34 & Project Manager      & 120000 & Marketing & 20000 & 13 & 5 & Not Eligible & 140000\\\\\n",
       "\t17 & E1017 & Male   & 26 & System Administrator & 100000 & IT        & 13000 &  8 & 4 & Eligible     & 113000\\\\\n",
       "\t18 & E1018 & Male   & 33 & System Administrator & 200000 & Finance   & 18000 &  9 & 4 & Eligible     & 218000\\\\\n",
       "\t19 & E1019 & Male   & 28 & Project Manager      & 165000 & IT        & 14000 & 15 & 4 & Eligible     & 179000\\\\\n",
       "\t21 & E1021 & Male   & 30 & System Administrator & 135000 & IT        & 19000 &  4 & 4 & Not Eligible & 154000\\\\\n",
       "\t23 & E1023 & Male   & 26 & System Administrator & 135000 & Marketing & 17000 &  5 & 5 & Not Eligible & 152000\\\\\n",
       "\t25 & E1025 & Male   & 33 & Project Manager      & 180000 & Marketing & 11000 &  1 & 4 & Not Eligible & 191000\\\\\n",
       "\t26 & E1026 & Female & 25 & Software Engineer    & 115000 & Marketing &  5000 &  3 & 4 & Eligible     & 120000\\\\\n",
       "\t27 & E1027 & Male   & 25 & Data Analyst         & 110000 & IT        & 19000 &  6 & 4 & Eligible     & 129000\\\\\n",
       "\t28 & E1028 & Male   & 29 & Software Engineer    & 120000 & Marketing &  5000 &  7 & 5 & Eligible     & 125000\\\\\n",
       "\t31 & E1031 & Male   & 28 & Software Engineer    & 160000 & Marketing &  8000 &  1 & 5 & Eligible     & 168000\\\\\n",
       "\t35 & E1035 & Male   & 28 & Project Manager      & 125000 & HR        &  8000 & 14 & 4 & Not Eligible & 133000\\\\\n",
       "\t36 & E1036 & Male   & 33 & Data Analyst         & 190000 & Marketing & 12000 &  8 & 4 & Eligible     & 202000\\\\\n",
       "\t37 & E1037 & Male   & 29 & Project Manager      & 165000 & IT        & 20000 &  6 & 5 & Eligible     & 185000\\\\\n",
       "\t40 & E1040 & Male   & 37 & System Administrator & 160000 & IT        & 19000 &  3 & 4 & Eligible     & 179000\\\\\n",
       "\t41 & E1041 & Male   & 37 & System Administrator & 145000 & Marketing & 10000 &  3 & 5 & Eligible     & 155000\\\\\n",
       "\t45 & E1045 & Male   & 33 & Project Manager      & 185000 & IT        &  8000 & 11 & 5 & Not Eligible & 193000\\\\\n",
       "\t48 & E1048 & Female & 39 & Data Analyst         & 195000 & Marketing & 20000 & 12 & 5 & Eligible     & 215000\\\\\n",
       "\\end{tabular}\n"
      ],
      "text/markdown": [
       "\n",
       "A data.frame: 21 × 11\n",
       "\n",
       "| <!--/--> | EmployeeID &lt;fct&gt; | Gender &lt;chr&gt; | Age &lt;int&gt; | JobPosition &lt;chr&gt; | Salary &lt;dbl&gt; | Department &lt;chr&gt; | Bonus &lt;dbl&gt; | YearsExperience &lt;int&gt; | PerformanceRating &lt;int&gt; | RemoteWork &lt;chr&gt; | TotalCompensation &lt;dbl&gt; |\n",
       "|---|---|---|---|---|---|---|---|---|---|---|---|\n",
       "| 5 | E1005 | Male   | 34 | Project Manager      | 175000 | IT        | 13000 |  4 | 5 | Not Eligible | 188000 |\n",
       "| 9 | E1009 | Male   | 40 | Data Analyst         | 180000 | Marketing |  7000 |  4 | 4 | Eligible     | 187000 |\n",
       "| 13 | E1013 | Female | 38 | Data Analyst         | 180000 | Marketing | 14000 |  2 | 4 | Not Eligible | 194000 |\n",
       "| 15 | E1015 | Male   | 34 | Project Manager      | 120000 | Marketing | 20000 | 13 | 5 | Not Eligible | 140000 |\n",
       "| 17 | E1017 | Male   | 26 | System Administrator | 100000 | IT        | 13000 |  8 | 4 | Eligible     | 113000 |\n",
       "| 18 | E1018 | Male   | 33 | System Administrator | 200000 | Finance   | 18000 |  9 | 4 | Eligible     | 218000 |\n",
       "| 19 | E1019 | Male   | 28 | Project Manager      | 165000 | IT        | 14000 | 15 | 4 | Eligible     | 179000 |\n",
       "| 21 | E1021 | Male   | 30 | System Administrator | 135000 | IT        | 19000 |  4 | 4 | Not Eligible | 154000 |\n",
       "| 23 | E1023 | Male   | 26 | System Administrator | 135000 | Marketing | 17000 |  5 | 5 | Not Eligible | 152000 |\n",
       "| 25 | E1025 | Male   | 33 | Project Manager      | 180000 | Marketing | 11000 |  1 | 4 | Not Eligible | 191000 |\n",
       "| 26 | E1026 | Female | 25 | Software Engineer    | 115000 | Marketing |  5000 |  3 | 4 | Eligible     | 120000 |\n",
       "| 27 | E1027 | Male   | 25 | Data Analyst         | 110000 | IT        | 19000 |  6 | 4 | Eligible     | 129000 |\n",
       "| 28 | E1028 | Male   | 29 | Software Engineer    | 120000 | Marketing |  5000 |  7 | 5 | Eligible     | 125000 |\n",
       "| 31 | E1031 | Male   | 28 | Software Engineer    | 160000 | Marketing |  8000 |  1 | 5 | Eligible     | 168000 |\n",
       "| 35 | E1035 | Male   | 28 | Project Manager      | 125000 | HR        |  8000 | 14 | 4 | Not Eligible | 133000 |\n",
       "| 36 | E1036 | Male   | 33 | Data Analyst         | 190000 | Marketing | 12000 |  8 | 4 | Eligible     | 202000 |\n",
       "| 37 | E1037 | Male   | 29 | Project Manager      | 165000 | IT        | 20000 |  6 | 5 | Eligible     | 185000 |\n",
       "| 40 | E1040 | Male   | 37 | System Administrator | 160000 | IT        | 19000 |  3 | 4 | Eligible     | 179000 |\n",
       "| 41 | E1041 | Male   | 37 | System Administrator | 145000 | Marketing | 10000 |  3 | 5 | Eligible     | 155000 |\n",
       "| 45 | E1045 | Male   | 33 | Project Manager      | 185000 | IT        |  8000 | 11 | 5 | Not Eligible | 193000 |\n",
       "| 48 | E1048 | Female | 39 | Data Analyst         | 195000 | Marketing | 20000 | 12 | 5 | Eligible     | 215000 |\n",
       "\n"
      ],
      "text/plain": [
       "   EmployeeID Gender Age JobPosition          Salary Department Bonus\n",
       "5  E1005      Male   34  Project Manager      175000 IT         13000\n",
       "9  E1009      Male   40  Data Analyst         180000 Marketing   7000\n",
       "13 E1013      Female 38  Data Analyst         180000 Marketing  14000\n",
       "15 E1015      Male   34  Project Manager      120000 Marketing  20000\n",
       "17 E1017      Male   26  System Administrator 100000 IT         13000\n",
       "18 E1018      Male   33  System Administrator 200000 Finance    18000\n",
       "19 E1019      Male   28  Project Manager      165000 IT         14000\n",
       "21 E1021      Male   30  System Administrator 135000 IT         19000\n",
       "23 E1023      Male   26  System Administrator 135000 Marketing  17000\n",
       "25 E1025      Male   33  Project Manager      180000 Marketing  11000\n",
       "26 E1026      Female 25  Software Engineer    115000 Marketing   5000\n",
       "27 E1027      Male   25  Data Analyst         110000 IT         19000\n",
       "28 E1028      Male   29  Software Engineer    120000 Marketing   5000\n",
       "31 E1031      Male   28  Software Engineer    160000 Marketing   8000\n",
       "35 E1035      Male   28  Project Manager      125000 HR          8000\n",
       "36 E1036      Male   33  Data Analyst         190000 Marketing  12000\n",
       "37 E1037      Male   29  Project Manager      165000 IT         20000\n",
       "40 E1040      Male   37  System Administrator 160000 IT         19000\n",
       "41 E1041      Male   37  System Administrator 145000 Marketing  10000\n",
       "45 E1045      Male   33  Project Manager      185000 IT          8000\n",
       "48 E1048      Female 39  Data Analyst         195000 Marketing  20000\n",
       "   YearsExperience PerformanceRating RemoteWork   TotalCompensation\n",
       "5   4              5                 Not Eligible 188000           \n",
       "9   4              4                 Eligible     187000           \n",
       "13  2              4                 Not Eligible 194000           \n",
       "15 13              5                 Not Eligible 140000           \n",
       "17  8              4                 Eligible     113000           \n",
       "18  9              4                 Eligible     218000           \n",
       "19 15              4                 Eligible     179000           \n",
       "21  4              4                 Not Eligible 154000           \n",
       "23  5              5                 Not Eligible 152000           \n",
       "25  1              4                 Not Eligible 191000           \n",
       "26  3              4                 Eligible     120000           \n",
       "27  6              4                 Eligible     129000           \n",
       "28  7              5                 Eligible     125000           \n",
       "31  1              5                 Eligible     168000           \n",
       "35 14              4                 Not Eligible 133000           \n",
       "36  8              4                 Eligible     202000           \n",
       "37  6              5                 Eligible     185000           \n",
       "40  3              4                 Eligible     179000           \n",
       "41  3              5                 Eligible     155000           \n",
       "45 11              5                 Not Eligible 193000           \n",
       "48 12              5                 Eligible     215000           "
      ]
     },
     "metadata": {},
     "output_type": "display_data"
    }
   ],
   "source": [
    "high_performance_employees"
   ]
  },
  {
   "cell_type": "markdown",
   "id": "72123b68-db4a-45a4-bc81-7384cc281404",
   "metadata": {},
   "source": [
    "### Calculate the average Salary for each Department (use either the aggregate function or dplyr’s group_by and summarise)."
   ]
  },
  {
   "cell_type": "code",
   "execution_count": 57,
   "id": "e7853b38-e32f-4083-b11b-f3430aec848e",
   "metadata": {},
   "outputs": [],
   "source": [
    "library(dplyr)\n",
    "\n",
    "average_salary_by_department <- employee_data %>%\n",
    "  group_by(Department) %>%\n",
    "  summarise(AverageSalary = mean(Salary))"
   ]
  },
  {
   "cell_type": "code",
   "execution_count": 58,
   "id": "4ae60c35-b851-4b29-a07f-0e7e9bc6b391",
   "metadata": {},
   "outputs": [
    {
     "name": "stdout",
     "output_type": "stream",
     "text": [
      "\u001b[90m# A tibble: 4 × 2\u001b[39m\n",
      "  Department AverageSalary\n",
      "  \u001b[3m\u001b[90m<chr>\u001b[39m\u001b[23m              \u001b[3m\u001b[90m<dbl>\u001b[39m\u001b[23m\n",
      "\u001b[90m1\u001b[39m Finance          \u001b[4m1\u001b[24m\u001b[4m4\u001b[24m\u001b[4m8\u001b[24m889.\n",
      "\u001b[90m2\u001b[39m HR               \u001b[4m1\u001b[24m\u001b[4m4\u001b[24m\u001b[4m9\u001b[24m167.\n",
      "\u001b[90m3\u001b[39m IT               \u001b[4m1\u001b[24m\u001b[4m5\u001b[24m\u001b[4m2\u001b[24m500 \n",
      "\u001b[90m4\u001b[39m Marketing        \u001b[4m1\u001b[24m\u001b[4m5\u001b[24m\u001b[4m2\u001b[24m857.\n"
     ]
    }
   ],
   "source": [
    "print(average_salary_by_department)"
   ]
  },
  {
   "cell_type": "code",
   "execution_count": 48,
   "id": "b5f4ab63-add4-4428-a239-32db1d7ae512",
   "metadata": {},
   "outputs": [
    {
     "name": "stdout",
     "output_type": "stream",
     "text": [
      "\n",
      "Female   Male \n",
      "  0.24   0.76 \n"
     ]
    }
   ],
   "source": [
    "gender_proportion <- table(employee_data$Gender) / nrow(employee_data)\n",
    "print(gender_proportion)"
   ]
  },
  {
   "cell_type": "code",
   "execution_count": 49,
   "id": "eede8228-20a5-4681-a3bc-815df44c6c18",
   "metadata": {},
   "outputs": [
    {
     "data": {
      "image/png": "[encoded data removed]",
      "text/plain": [
       "Plot with title “Age Distribution of Employees”"
      ]
     },
     "metadata": {
      "image/png": {
       "height": 420,
       "width": 420
      }
     },
     "output_type": "display_data"
    }
   ],
   "source": [
    "hist(employee_data$Age, \n",
    "     main = \"Age Distribution of Employees\", \n",
    "     xlab = \"Age\", \n",
    "     col = \"lightblue\", \n",
    "     border = \"black\")"
   ]
  },
  {
   "cell_type": "code",
   "execution_count": 50,
   "id": "b7d2c844-2fa0-4eed-9f0e-663e7f6aca69",
   "metadata": {},
   "outputs": [
    {
     "data": {
      "image/png": "[encoded data removed]",
      "text/plain": [
       "Plot with title “Salary Distribution by Job Position”"
      ]
     },
     "metadata": {
      "image/png": {
       "height": 420,
       "width": 420
      }
     },
     "output_type": "display_data"
    }
   ],
   "source": [
    "boxplot(Salary ~ JobPosition, data = employee_data, \n",
    "        main = \"Salary Distribution by Job Position\",\n",
    "        xlab = \"Job Position\", \n",
    "        ylab = \"Salary\", \n",
    "        col = \"lightblue\", \n",
    "        border = \"black\", \n",
    "        las = 2) "
   ]
  },
  {
   "cell_type": "code",
   "execution_count": 51,
   "id": "5d87bb1e-08c8-4376-971e-7305fdeb1402",
   "metadata": {},
   "outputs": [
    {
     "data": {
      "image/png": "[encoded data removed]",
      "text/plain": [
       "Plot with title “Years of Experience vs. Salary”"
      ]
     },
     "metadata": {
      "image/png": {
       "height": 420,
       "width": 420
      }
     },
     "output_type": "display_data"
    }
   ],
   "source": [
    "plot(employee_data$YearsExperience, employee_data$Salary,\n",
    "     main = \"Years of Experience vs. Salary\",\n",
    "     xlab = \"Years of Experience\",\n",
    "     ylab = \"Salary\",\n",
    "     col = \"blue\",\n",
    "     pch = 19) \n",
    "\n",
    "abline(lm(Salary ~ YearsExperience, data = employee_data), col = \"red\", lwd = 2)"
   ]
  },
  {
   "cell_type": "code",
   "execution_count": 59,
   "id": "cee839f3-cb1a-489c-a4f2-321d1e5ecac6",
   "metadata": {},
   "outputs": [
    {
     "name": "stdout",
     "output_type": "stream",
     "text": [
      "\u001b[90m# A tibble: 4 × 3\u001b[39m\n",
      "  JobPosition          AverageBonus AveragePerformanceRating\n",
      "  \u001b[3m\u001b[90m<chr>\u001b[39m\u001b[23m                       \u001b[3m\u001b[90m<dbl>\u001b[39m\u001b[23m                    \u001b[3m\u001b[90m<dbl>\u001b[39m\u001b[23m\n",
      "\u001b[90m1\u001b[39m Data Analyst               \u001b[4m1\u001b[24m\u001b[4m2\u001b[24m250                      3.17\n",
      "\u001b[90m2\u001b[39m Project Manager            \u001b[4m1\u001b[24m\u001b[4m2\u001b[24m353.                     3.29\n",
      "\u001b[90m3\u001b[39m Software Engineer           \u001b[4m8\u001b[24m167.                     3.17\n",
      "\u001b[90m4\u001b[39m System Administrator       \u001b[4m1\u001b[24m\u001b[4m3\u001b[24m600                      3.27\n"
     ]
    }
   ],
   "source": [
    "avg_bonus_performance <- employee_data %>%\n",
    "  group_by(JobPosition) %>%\n",
    "  summarise(AverageBonus = mean(Bonus), \n",
    "            AveragePerformanceRating = mean(PerformanceRating))\n",
    "\n",
    "print(avg_bonus_performance)"
   ]
  },
  {
   "cell_type": "code",
   "execution_count": 60,
   "id": "a0d5884b-07cb-43af-aa16-c396deb989b8",
   "metadata": {},
   "outputs": [
    {
     "name": "stdout",
     "output_type": "stream",
     "text": [
      "\u001b[90m# A tibble: 2 × 2\u001b[39m\n",
      "  Gender AverageExperience\n",
      "  \u001b[3m\u001b[90m<chr>\u001b[39m\u001b[23m              \u001b[3m\u001b[90m<dbl>\u001b[39m\u001b[23m\n",
      "\u001b[90m1\u001b[39m Female              7.08\n",
      "\u001b[90m2\u001b[39m Male                8.29\n"
     ]
    }
   ],
   "source": [
    "avg_experience_gender <- employee_data %>%\n",
    "  group_by(Gender) %>%\n",
    "  summarise(AverageExperience = mean(YearsExperience))\n",
    "\n",
    "print(avg_experience_gender)"
   ]
  },
  {
   "cell_type": "code",
   "execution_count": 61,
   "id": "8ab4c1e2-d12b-4bbd-a27e-171bd75ae380",
   "metadata": {},
   "outputs": [],
   "source": [
    "finance_salaries <- employee_data$Salary[employee_data$Department == \"Finance\"]\n",
    "n_finance <- length(finance_salaries)\n",
    "mean_finance <- mean(finance_salaries)\n",
    "sd_finance <- sd(finance_salaries)\n"
   ]
  },
  {
   "cell_type": "code",
   "execution_count": 62,
   "id": "0fda5087-7928-4522-906a-272983512de6",
   "metadata": {},
   "outputs": [],
   "source": [
    "error_margin <- qt(0.975, df = n_finance - 1) * (sd_finance / sqrt(n_finance))"
   ]
  },
  {
   "cell_type": "code",
   "execution_count": 63,
   "id": "f6af01f1-31be-4cf4-b2fb-97b37c89921d",
   "metadata": {},
   "outputs": [
    {
     "data": {
      "text/html": [
       "27566.2742265773"
      ],
      "text/latex": [
       "27566.2742265773"
      ],
      "text/markdown": [
       "27566.2742265773"
      ],
      "text/plain": [
       "[1] 27566.27"
      ]
     },
     "metadata": {},
     "output_type": "display_data"
    }
   ],
   "source": [
    "error_margin"
   ]
  },
  {
   "cell_type": "code",
   "execution_count": 64,
   "id": "a0a6c526-f701-4f79-ae2b-905334e5ff47",
   "metadata": {},
   "outputs": [],
   "source": [
    "lower_bound <- mean_finance - error_margin\n",
    "upper_bound <- mean_finance + error_margin\n",
    "confidence_interval <- c(lower_bound, upper_bound)"
   ]
  },
  {
   "cell_type": "code",
   "execution_count": 65,
   "id": "fab4c4df-9750-4577-ae06-1310cbe4dfd4",
   "metadata": {},
   "outputs": [
    {
     "name": "stdout",
     "output_type": "stream",
     "text": [
      "[1] 121322.6 176455.2\n"
     ]
    }
   ],
   "source": [
    "print(confidence_interval)"
   ]
  },
  {
   "cell_type": "code",
   "execution_count": 66,
   "id": "632b28c0-084f-42f9-a8b4-cb71c1e62bf9",
   "metadata": {},
   "outputs": [],
   "source": [
    "department_summary <- function(dept_name) {\n",
    "  dept_data <- subset(employee_data, Department == dept_name)\n",
    "  list(\n",
    "    NumberOfEmployees = nrow(dept_data),\n",
    "    AverageSalary = mean(dept_data$Salary),\n",
    "    AveragePerformanceRating = mean(dept_data$PerformanceRating)\n",
    "  )\n",
    "}"
   ]
  },
  {
   "cell_type": "code",
   "execution_count": 67,
   "id": "77c6289f-2636-48d0-b1d6-5979087e1961",
   "metadata": {},
   "outputs": [
    {
     "name": "stdout",
     "output_type": "stream",
     "text": [
      "$NumberOfEmployees\n",
      "[1] 6\n",
      "\n",
      "$AverageSalary\n",
      "[1] 149166.7\n",
      "\n",
      "$AveragePerformanceRating\n",
      "[1] 2.5\n",
      "\n"
     ]
    }
   ],
   "source": [
    "hr_summary <- department_summary(\"HR\")\n",
    "print(hr_summary)"
   ]
  },
  {
   "cell_type": "code",
   "execution_count": 68,
   "id": "1df4b0b0-b95c-42db-9084-9aa471f45747",
   "metadata": {},
   "outputs": [
    {
     "name": "stdout",
     "output_type": "stream",
     "text": [
      "[1] \"Correlation between Years of Experience and Salary: -0.175\"\n"
     ]
    }
   ],
   "source": [
    "correlation <- cor(employee_data$YearsExperience, employee_data$Salary)\n",
    "print(paste(\"Correlation between Years of Experience and Salary:\", round(correlation, 3)))"
   ]
  },
  {
   "cell_type": "code",
   "execution_count": 69,
   "id": "6ca74ecb-dc58-4b59-a0db-9e67ebf5113e",
   "metadata": {},
   "outputs": [
    {
     "data": {
      "text/plain": [
       "\n",
       "Call:\n",
       "lm(formula = Salary ~ YearsExperience, data = employee_data)\n",
       "\n",
       "Residuals:\n",
       "   Min     1Q Median     3Q    Max \n",
       "-58598 -24934   1564  21815  54232 \n",
       "\n",
       "Coefficients:\n",
       "                Estimate Std. Error t value Pr(>|t|)    \n",
       "(Intercept)     160930.8     8733.8  18.426   <2e-16 ***\n",
       "YearsExperience  -1166.3      947.8  -1.231    0.224    \n",
       "---\n",
       "Signif. codes:  0 ‘***’ 0.001 ‘**’ 0.01 ‘*’ 0.05 ‘.’ 0.1 ‘ ’ 1\n",
       "\n",
       "Residual standard error: 30650 on 48 degrees of freedom\n",
       "Multiple R-squared:  0.03059,\tAdjusted R-squared:  0.01039 \n",
       "F-statistic: 1.514 on 1 and 48 DF,  p-value: 0.2245\n"
      ]
     },
     "metadata": {},
     "output_type": "display_data"
    }
   ],
   "source": [
    "salary_model <- lm(Salary ~ YearsExperience, data = employee_data)\n",
    "summary(salary_model)"
   ]
  },
  {
   "cell_type": "code",
   "execution_count": 70,
   "id": "00245ddc-6955-4616-ab64-24e77002669b",
   "metadata": {},
   "outputs": [],
   "source": [
    "write.csv(employee_data, \"EmployeeData.csv\", row.names = FALSE)"
   ]
  },
  {
   "cell_type": "markdown",
   "id": "3bdaba5d-4d14-4bac-a32d-45cfef32b29a",
   "metadata": {},
   "source": [
    "# Question 2"
   ]
  },
  {
   "cell_type": "markdown",
   "id": "b866d597-03da-400b-9524-01860b15c5e8",
   "metadata": {},
   "source": [
    " ## Load the data set in the package “carData”."
   ]
  },
  {
   "cell_type": "code",
   "execution_count": 74,
   "id": "245081e1-d784-42ec-9594-0d9f4e37038d",
   "metadata": {},
   "outputs": [],
   "source": [
    "library(carData)"
   ]
  },
  {
   "cell_type": "code",
   "execution_count": 75,
   "id": "cb6a0fe4-0a95-41a6-8421-14a8c07b4d03",
   "metadata": {},
   "outputs": [],
   "source": [
    "data(\"Davis\")"
   ]
  },
  {
   "cell_type": "code",
   "execution_count": 76,
   "id": "4d278029-300e-4a5a-926b-1ba31452b524",
   "metadata": {},
   "outputs": [
    {
     "data": {
      "text/html": [
       "<table class=\"dataframe\">\n",
       "<caption>A data.frame: 6 × 5</caption>\n",
       "<thead>\n",
       "\t<tr><th></th><th scope=col>sex</th><th scope=col>weight</th><th scope=col>height</th><th scope=col>repwt</th><th scope=col>repht</th></tr>\n",
       "\t<tr><th></th><th scope=col>&lt;fct&gt;</th><th scope=col>&lt;int&gt;</th><th scope=col>&lt;int&gt;</th><th scope=col>&lt;int&gt;</th><th scope=col>&lt;int&gt;</th></tr>\n",
       "</thead>\n",
       "<tbody>\n",
       "\t<tr><th scope=row>1</th><td>M</td><td>77</td><td>182</td><td>77</td><td>180</td></tr>\n",
       "\t<tr><th scope=row>2</th><td>F</td><td>58</td><td>161</td><td>51</td><td>159</td></tr>\n",
       "\t<tr><th scope=row>3</th><td>F</td><td>53</td><td>161</td><td>54</td><td>158</td></tr>\n",
       "\t<tr><th scope=row>4</th><td>M</td><td>68</td><td>177</td><td>70</td><td>175</td></tr>\n",
       "\t<tr><th scope=row>5</th><td>F</td><td>59</td><td>157</td><td>59</td><td>155</td></tr>\n",
       "\t<tr><th scope=row>6</th><td>M</td><td>76</td><td>170</td><td>76</td><td>165</td></tr>\n",
       "</tbody>\n",
       "</table>\n"
      ],
      "text/latex": [
       "A data.frame: 6 × 5\n",
       "\\begin{tabular}{r|lllll}\n",
       "  & sex & weight & height & repwt & repht\\\\\n",
       "  & <fct> & <int> & <int> & <int> & <int>\\\\\n",
       "\\hline\n",
       "\t1 & M & 77 & 182 & 77 & 180\\\\\n",
       "\t2 & F & 58 & 161 & 51 & 159\\\\\n",
       "\t3 & F & 53 & 161 & 54 & 158\\\\\n",
       "\t4 & M & 68 & 177 & 70 & 175\\\\\n",
       "\t5 & F & 59 & 157 & 59 & 155\\\\\n",
       "\t6 & M & 76 & 170 & 76 & 165\\\\\n",
       "\\end{tabular}\n"
      ],
      "text/markdown": [
       "\n",
       "A data.frame: 6 × 5\n",
       "\n",
       "| <!--/--> | sex &lt;fct&gt; | weight &lt;int&gt; | height &lt;int&gt; | repwt &lt;int&gt; | repht &lt;int&gt; |\n",
       "|---|---|---|---|---|---|\n",
       "| 1 | M | 77 | 182 | 77 | 180 |\n",
       "| 2 | F | 58 | 161 | 51 | 159 |\n",
       "| 3 | F | 53 | 161 | 54 | 158 |\n",
       "| 4 | M | 68 | 177 | 70 | 175 |\n",
       "| 5 | F | 59 | 157 | 59 | 155 |\n",
       "| 6 | M | 76 | 170 | 76 | 165 |\n",
       "\n"
      ],
      "text/plain": [
       "  sex weight height repwt repht\n",
       "1 M   77     182    77    180  \n",
       "2 F   58     161    51    159  \n",
       "3 F   53     161    54    158  \n",
       "4 M   68     177    70    175  \n",
       "5 F   59     157    59    155  \n",
       "6 M   76     170    76    165  "
      ]
     },
     "metadata": {},
     "output_type": "display_data"
    }
   ],
   "source": [
    "head(Davis)"
   ]
  },
  {
   "cell_type": "code",
   "execution_count": 77,
   "id": "74ef2187-1b68-4f50-8936-a110f1985d7e",
   "metadata": {},
   "outputs": [
    {
     "data": {
      "text/plain": [
       " sex         weight          height          repwt            repht      \n",
       " F:112   Min.   : 39.0   Min.   : 57.0   Min.   : 41.00   Min.   :148.0  \n",
       " M: 88   1st Qu.: 55.0   1st Qu.:164.0   1st Qu.: 55.00   1st Qu.:160.5  \n",
       "         Median : 63.0   Median :169.5   Median : 63.00   Median :168.0  \n",
       "         Mean   : 65.8   Mean   :170.0   Mean   : 65.62   Mean   :168.5  \n",
       "         3rd Qu.: 74.0   3rd Qu.:177.2   3rd Qu.: 73.50   3rd Qu.:175.0  \n",
       "         Max.   :166.0   Max.   :197.0   Max.   :124.00   Max.   :200.0  \n",
       "                                         NA's   :17       NA's   :17     "
      ]
     },
     "metadata": {},
     "output_type": "display_data"
    }
   ],
   "source": [
    "summary(Davis)"
   ]
  },
  {
   "cell_type": "markdown",
   "id": "56d277cd-c3d3-4bde-b9bf-1ef056e30453",
   "metadata": {},
   "source": [
    "### Find the male proportion in this sample and then construct a 99% confidence interval for the population proportion of males."
   ]
  },
  {
   "cell_type": "code",
   "execution_count": 78,
   "id": "7a584ede-daf1-4d87-8f10-dd6a77dc1ed8",
   "metadata": {},
   "outputs": [
    {
     "data": {
      "text/html": [
       "0.44"
      ],
      "text/latex": [
       "0.44"
      ],
      "text/markdown": [
       "0.44"
      ],
      "text/plain": [
       "[1] 0.44"
      ]
     },
     "metadata": {},
     "output_type": "display_data"
    },
    {
     "data": {
      "text/html": [
       "<style>\n",
       ".list-inline {list-style: none; margin:0; padding: 0}\n",
       ".list-inline>li {display: inline-block}\n",
       ".list-inline>li:not(:last-child)::after {content: \"\\00b7\"; padding: 0 .5ex}\n",
       "</style>\n",
       "<ol class=list-inline><li>0.349588758373429</li><li>0.530411241626571</li></ol>\n"
      ],
      "text/latex": [
       "\\begin{enumerate*}\n",
       "\\item 0.349588758373429\n",
       "\\item 0.530411241626571\n",
       "\\end{enumerate*}\n"
      ],
      "text/markdown": [
       "1. 0.349588758373429\n",
       "2. 0.530411241626571\n",
       "\n",
       "\n"
      ],
      "text/plain": [
       "[1] 0.3495888 0.5304112"
      ]
     },
     "metadata": {},
     "output_type": "display_data"
    }
   ],
   "source": [
    "male_count <- sum(Davis$sex == \"M\")\n",
    "total_count <- nrow(Davis)\n",
    "male_proportion <- male_count / total_count\n",
    "\n",
    "alpha <- 0.01  \n",
    "z_value <- qnorm(1 - alpha/2) \n",
    "se <- sqrt((male_proportion * (1 - male_proportion)) / total_count)\n",
    "\n",
    "lower_bound <- male_proportion - z_value * se\n",
    "upper_bound <- male_proportion + z_value * se\n",
    "\n",
    "male_proportion\n",
    "c(lower_bound, upper_bound)"
   ]
  },
  {
   "cell_type": "markdown",
   "id": "7b6d80b2-a9ff-4487-9048-375d4ffa41f2",
   "metadata": {},
   "source": [
    "### Create a new data frame named “males” by extracting only the records corresponding to males from the data set “Davis”. Similarly, create a data frame named “females”."
   ]
  },
  {
   "cell_type": "code",
   "execution_count": 79,
   "id": "f0e0c4fd-4cef-4197-9398-55ede67487d9",
   "metadata": {},
   "outputs": [],
   "source": [
    "males <- subset(Davis, sex == \"M\")\n",
    "females <- subset(Davis, sex == \"F\")"
   ]
  },
  {
   "cell_type": "markdown",
   "id": "49b1d517-f1c6-41f7-933f-d7206472eebb",
   "metadata": {},
   "source": [
    "### Consider the variable “Height” and find the following measures for males and females separately."
   ]
  },
  {
   "cell_type": "code",
   "execution_count": 80,
   "id": "52cc3d72-0491-424c-8576-94b6c20b0ad3",
   "metadata": {},
   "outputs": [
    {
     "data": {
      "text/html": [
       "178.011363636364"
      ],
      "text/latex": [
       "178.011363636364"
      ],
      "text/markdown": [
       "178.011363636364"
      ],
      "text/plain": [
       "[1] 178.0114"
      ]
     },
     "metadata": {},
     "output_type": "display_data"
    },
    {
     "data": {
      "text/html": [
       "41.4826280041797"
      ],
      "text/latex": [
       "41.4826280041797"
      ],
      "text/markdown": [
       "41.4826280041797"
      ],
      "text/plain": [
       "[1] 41.48263"
      ]
     },
     "metadata": {},
     "output_type": "display_data"
    },
    {
     "data": {
      "text/html": [
       "6.44070089386083"
      ],
      "text/latex": [
       "6.44070089386083"
      ],
      "text/markdown": [
       "6.44070089386083"
      ],
      "text/plain": [
       "[1] 6.440701"
      ]
     },
     "metadata": {},
     "output_type": "display_data"
    },
    {
     "data": {
      "text/html": [
       "163.741071428571"
      ],
      "text/latex": [
       "163.741071428571"
      ],
      "text/markdown": [
       "163.741071428571"
      ],
      "text/plain": [
       "[1] 163.7411"
      ]
     },
     "metadata": {},
     "output_type": "display_data"
    },
    {
     "data": {
      "text/html": [
       "135.581000643501"
      ],
      "text/latex": [
       "135.581000643501"
      ],
      "text/markdown": [
       "135.581000643501"
      ],
      "text/plain": [
       "[1] 135.581"
      ]
     },
     "metadata": {},
     "output_type": "display_data"
    },
    {
     "data": {
      "text/html": [
       "11.6439254825639"
      ],
      "text/latex": [
       "11.6439254825639"
      ],
      "text/markdown": [
       "11.6439254825639"
      ],
      "text/plain": [
       "[1] 11.64393"
      ]
     },
     "metadata": {},
     "output_type": "display_data"
    }
   ],
   "source": [
    "male_height_mean <- mean(males$height)\n",
    "male_height_var <- var(males$height)\n",
    "male_height_sd <- sd(males$height)\n",
    "\n",
    "female_height_mean <- mean(females$height)\n",
    "female_height_var <- var(females$height)\n",
    "female_height_sd <- sd(females$height)\n",
    "\n",
    "male_height_mean\n",
    "male_height_var\n",
    "male_height_sd\n",
    "\n",
    "female_height_mean\n",
    "female_height_var\n",
    "female_height_sd\n"
   ]
  },
  {
   "cell_type": "code",
   "execution_count": 81,
   "id": "d03bc86c-d561-405b-8627-68e9eaecd906",
   "metadata": {},
   "outputs": [
    {
     "data": {
      "text/html": [
       "9.70745826666026"
      ],
      "text/latex": [
       "9.70745826666026"
      ],
      "text/markdown": [
       "9.70745826666026"
      ],
      "text/plain": [
       "[1] 9.707458"
      ]
     },
     "metadata": {},
     "output_type": "display_data"
    }
   ],
   "source": [
    "n1 <- nrow(males)\n",
    "n2 <- nrow(females)\n",
    "\n",
    "pooled_sd <- sqrt(((n1 - 1) * male_height_var + (n2 - 1) * female_height_var) / (n1 + n2 - 2))\n",
    "pooled_sd\n"
   ]
  },
  {
   "cell_type": "code",
   "execution_count": 82,
   "id": "c533aba0-0caa-445f-991e-82044bbcaa9d",
   "metadata": {},
   "outputs": [
    {
     "data": {
      "text/html": [
       "14.2702922077922"
      ],
      "text/latex": [
       "14.2702922077922"
      ],
      "text/markdown": [
       "14.2702922077922"
      ],
      "text/plain": [
       "[1] 14.27029"
      ]
     },
     "metadata": {},
     "output_type": "display_data"
    }
   ],
   "source": [
    "point_estimate <- male_height_mean - female_height_mean\n",
    "point_estimate\n"
   ]
  },
  {
   "cell_type": "markdown",
   "id": "6f2e2634-50f3-4933-b8b9-1778671bbd75",
   "metadata": {},
   "source": [
    "### Construct a 95% confidence interval for the difference between mean heights of males and females."
   ]
  },
  {
   "cell_type": "code",
   "execution_count": 83,
   "id": "64ac7c4b-10be-428e-a886-20b9f6155aa1",
   "metadata": {},
   "outputs": [
    {
     "data": {
      "text/html": [
       "<style>\n",
       ".list-inline {list-style: none; margin:0; padding: 0}\n",
       ".list-inline>li {display: inline-block}\n",
       ".list-inline>li:not(:last-child)::after {content: \"\\00b7\"; padding: 0 .5ex}\n",
       "</style>\n",
       "<ol class=list-inline><li>11.5433185526732</li><li>16.9972658629112</li></ol>\n"
      ],
      "text/latex": [
       "\\begin{enumerate*}\n",
       "\\item 11.5433185526732\n",
       "\\item 16.9972658629112\n",
       "\\end{enumerate*}\n"
      ],
      "text/markdown": [
       "1. 11.5433185526732\n",
       "2. 16.9972658629112\n",
       "\n",
       "\n"
      ],
      "text/plain": [
       "[1] 11.54332 16.99727"
      ]
     },
     "metadata": {},
     "output_type": "display_data"
    }
   ],
   "source": [
    "alpha <- 0.05  \n",
    "t_value <- qt(1 - alpha/2, df = n1 + n2 - 2)  \n",
    "\n",
    "margin_error <- t_value * pooled_sd * sqrt((1/n1) + (1/n2))\n",
    "\n",
    "lower_bound_diff <- point_estimate - margin_error\n",
    "upper_bound_diff <- point_estimate + margin_error\n",
    "\n",
    "c(lower_bound_diff, upper_bound_diff)\n"
   ]
  }
 ],
 "metadata": {
  "kernelspec": {
   "display_name": "R",
   "language": "R",
   "name": "ir"
  },
  "language_info": {
   "codemirror_mode": "r",
   "file_extension": ".r",
   "mimetype": "text/x-r-source",
   "name": "R",
   "pygments_lexer": "r",
   "version": "4.4.2"
  }
 },
 "nbformat": 4,
 "nbformat_minor": 5
}
